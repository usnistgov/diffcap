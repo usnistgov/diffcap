{
 "cells": [
  {
   "cell_type": "code",
   "execution_count": 1,
   "metadata": {
    "collapsed": true
   },
   "outputs": [],
   "source": [
    "%matplotlib inline"
   ]
  },
  {
   "cell_type": "code",
   "execution_count": 2,
   "metadata": {
    "collapsed": true
   },
   "outputs": [],
   "source": [
    "import fipy as fp"
   ]
  },
  {
   "cell_type": "code",
   "execution_count": 3,
   "metadata": {
    "collapsed": false
   },
   "outputs": [],
   "source": [
    "from matplotlibElPhFViewer import MatplotlibElPhFViewer\n",
    "def viewElPhF(filename, L=\"3.2 nm\", nx=1200):\n",
    "    L = fp.Variable(L)\n",
    "    dx = L / nx\n",
    "    mesh = fp.Grid1D(nx=nx, dx=dx/L)\n",
    "\n",
    "    xi = fp.CellVariable(mesh=mesh, name=r\"$\\xi$\")\n",
    "    phi = fp.CellVariable(mesh=mesh, name=r\"$\\phi$\")  \n",
    "    interstitials = [\n",
    "        fp.CellVariable(mesh=mesh, name=\"$e^-$\")\n",
    "    ]\n",
    "\n",
    "    substitutionals = [\n",
    "        fp.CellVariable(mesh=mesh, name=\"$M^+$\"),\n",
    "        fp.CellVariable(mesh=mesh, name=\"$A^-$\")\n",
    "    ]\n",
    "\n",
    "    N = fp.CellVariable(mesh=mesh, name=\"$N$\")\n",
    "    \n",
    "    components = interstitials + substitutionals + [N]\n",
    "    \n",
    "    for j in components:\n",
    "        j.Y = fp.CellVariable(mesh=mesh, name=j.name)\n",
    "\n",
    "    interstitials[0].z   = -1\n",
    "    substitutionals[0].z = +2\n",
    "    substitutionals[1].z = -2\n",
    "    N.z                  = 0\n",
    "\n",
    "                         \n",
    "    values = fp.numerix.loadtxt(filename, skiprows=1, unpack=True)\n",
    "    \n",
    "    xi.setValue(values[1])\n",
    "    phi.setValue(values[2])\n",
    "    \n",
    "    _start = 3\n",
    "    for j, mu in zip(interstitials + substitutionals,\n",
    "                     values[_start:_start+len(interstitials + substitutionals)]):\n",
    "        j.setValue(mu)\n",
    "\n",
    "    _start = 3 + len(interstitials + substitutionals)\n",
    "    for j, Y in zip(components,\n",
    "                     values[_start:_start+len(components)]):\n",
    "        j.Y.setValue(Y)\n",
    "\n",
    "    charge = fp.CellVariable(mesh=mesh, value=N.z)\n",
    "    for i in interstitials + substitutionals:\n",
    "        charge += i.z * i.Y\n",
    "\n",
    "    viewer = MatplotlibElPhFViewer(phase=xi,\n",
    "                           potential=phi,\n",
    "                           components=[i.Y for i in components],\n",
    "                           charge=charge,\n",
    "                           potentials=[i - i[...,0] for i in interstitials + substitutionals],\n",
    "                           limits={\n",
    "                               'phasemax':1.,\n",
    "                               'phasemin':0.,\n",
    "                           })\n"
   ]
  },
  {
   "cell_type": "markdown",
   "metadata": {},
   "source": [
    "## elphf0226.py"
   ]
  },
  {
   "cell_type": "code",
   "execution_count": 6,
   "metadata": {
    "collapsed": false
   },
   "outputs": [
    {
     "name": "stdout",
     "output_type": "stream",
     "text": [
      "L = 3.2 nm\n",
      "barrier 145.295286758\n",
      "$e^-$ 1.99986486829e-06 1.99999308898\n",
      "$M^+$ 0.0045 0.999996732016\n",
      "$A^-$ 0.00449900006757 1.87524045318e-07\n",
      "$N$ 0.991000999932 3.08045960254e-06\n",
      "$m$ 1.00000199986 2.99999308898\n",
      "deltaV -0.693033314543\n",
      "$e^-$ -13.8154662599 -13.8154662599\n",
      "$M^+$ -4.00857151748 -4.00857151748\n",
      "$A^-$ -6.78092700755 -6.78092700755\n",
      "dt 0.0732421875\n",
      "0.0 1.45953280368 -0.00296330835955\n",
      "0.0 0.612361431515 -0.00493852505938\n",
      "0.0 0.541374782096 -0.00555655963638\n",
      "0.0 0.530766541556 -0.00572782315669\n",
      "0.0 0.528261380252 -0.00577172310619\n",
      "0.0 0.527605095859 -0.00578311322057\n",
      "0.0 0.527429007743 -0.00578608911657\n",
      "0.0 0.527381464418 -0.00578687082014\n",
      "0.0 0.527365112992 -0.00578713178429\n"
     ]
    }
   ],
   "source": [
    "!python elphf0226.py --galvani_potential=\"0.0 V\" --ncells=1200 --relaxation=0.8 --outer_sweeps=10 --output=\"0.0_V.tsv\" "
   ]
  },
  {
   "cell_type": "code",
   "execution_count": 14,
   "metadata": {
    "collapsed": false
   },
   "outputs": [
    {
     "data": {
      "image/png": "[encoded data removed]",
      "text/plain": [
       "<matplotlib.figure.Figure at 0x111b4b110>"
      ]
     },
     "metadata": {},
     "output_type": "display_data"
    }
   ],
   "source": [
    "viewElPhF(\"0.0_V.tsv\")"
   ]
  },
  {
   "cell_type": "code",
   "execution_count": 15,
   "metadata": {
    "collapsed": false
   },
   "outputs": [
    {
     "name": "stdout",
     "output_type": "stream",
     "text": [
      "L = 3.2 nm\n",
      "barrier 145.295286758\n",
      "$e^-$ 1.99986486829e-06 1.99999308898\n",
      "$M^+$ 0.0045 0.999996732016\n",
      "$A^-$ 0.00449900006757 1.87524045318e-07\n",
      "$N$ 0.991000999932 3.08045960254e-06\n",
      "$m$ 1.00000199986 2.99999308898\n",
      "deltaV -0.693033314543\n",
      "$e^-$ 5.65517931156 5.65517931156\n",
      "$M^+$ -42.9498626605 -42.9498626605\n",
      "$A^-$ 32.1603641355 32.1603641355\n",
      "dt 0.0732421875\n",
      "19.4706455715 0.136822231978 0.0934160864184\n",
      "19.4706455715 -0.323209762193 0.0929805767067\n",
      "19.4706455715 -0.384718378487 0.092302357785\n",
      "19.4706455715 -0.394097999976 0.0921522196022\n",
      "19.4706455715 -0.396027021061 0.092118391446\n",
      "19.4706455715 -0.396458231543 0.0921107139634\n",
      "19.4706455715 -0.39655624373 0.0921089900181\n",
      "19.4706455715 -0.396578466815 0.0921086212747\n",
      "19.4706455715 -0.396583418412 0.0921085581975\n",
      "19.4706455715 -0.396584462102 0.0921085617418\n"
     ]
    }
   ],
   "source": [
    "!python elphf0226.py --galvani_potential=\"0.5 V\" --ncells=1200 --relaxation=0.8 --outer_sweeps=10 --output=\"0.5_V.tsv\" "
   ]
  },
  {
   "cell_type": "code",
   "execution_count": 16,
   "metadata": {
    "collapsed": false
   },
   "outputs": [
    {
     "data": {
      "image/png": "[encoded data removed]",
      "text/plain": [
       "<matplotlib.figure.Figure at 0x111b6f150>"
      ]
     },
     "metadata": {},
     "output_type": "display_data"
    }
   ],
   "source": [
    "viewElPhF(\"0.5_V.tsv\")"
   ]
  },
  {
   "cell_type": "code",
   "execution_count": 17,
   "metadata": {
    "collapsed": false
   },
   "outputs": [
    {
     "name": "stdout",
     "output_type": "stream",
     "text": [
      "L = 3.2 nm\n",
      "barrier 145.295286758\n",
      "$e^-$ 1.99986486829e-06 1.99999308898\n",
      "$M^+$ 0.0045 0.999996732016\n",
      "$A^-$ 0.00449900006757 1.87524045318e-07\n",
      "$N$ 0.991000999932 3.08045960254e-06\n",
      "$m$ 1.00000199986 2.99999308898\n",
      "deltaV -0.693033314543\n",
      "$e^-$ -17.7095953742 -17.7095953742\n",
      "$M^+$ 3.77968671112 3.77968671112\n",
      "$A^-$ -14.5691852362 -14.5691852362\n",
      "dt 0.0732421875\n",
      "-3.8941291143 1.39267792761 -0.02764017843\n",
      "-3.8941291143 0.559766029752 -0.0261639642302\n",
      "-3.8941291143 0.489463316734 -0.0261552809963\n",
      "-3.8941291143 0.475257477006 -0.0260596988502\n",
      "-3.8941291143 0.471782861547 -0.0260357971641\n",
      "-3.8941291143 0.470688237558 -0.0260236556225\n",
      "-3.8941291143 0.470363637766 -0.0260196979989\n",
      "-3.8941291143 0.470259788996 -0.0260181858248\n",
      "-3.8941291143 0.470227432662 -0.0260176760595\n",
      "-3.8941291143 0.470217048274 -0.0260174973899\n"
     ]
    }
   ],
   "source": [
    "!python elphf0226.py --galvani_potential=\"-0.1 V\" --ncells=1200 --relaxation=0.8 --outer_sweeps=10 --output=\"-0.1_V.tsv\" "
   ]
  },
  {
   "cell_type": "code",
   "execution_count": 18,
   "metadata": {
    "collapsed": false
   },
   "outputs": [
    {
     "data": {
      "image/png": "[encoded data removed]",
      "text/plain": [
       "<matplotlib.figure.Figure at 0x1129d1e90>"
      ]
     },
     "metadata": {},
     "output_type": "display_data"
    }
   ],
   "source": [
    "viewElPhF(\"-0.1_V.tsv\")"
   ]
  },
  {
   "cell_type": "markdown",
   "metadata": {},
   "source": [
    "Negative Galvani potentials do not converge well. Prone to negative electron concentration, as a result of negative $Y_m$"
   ]
  },
  {
   "cell_type": "code",
   "execution_count": 19,
   "metadata": {
    "collapsed": false
   },
   "outputs": [
    {
     "name": "stdout",
     "output_type": "stream",
     "text": [
      "L = 3.2 nm\n",
      "barrier 145.295286758\n",
      "$e^-$ 1.99986486829e-06 1.99999308898\n",
      "$M^+$ 0.0045 0.999996732016\n",
      "$A^-$ 0.00449900006757 1.87524045318e-07\n",
      "$N$ 0.991000999932 3.08045960254e-06\n",
      "$m$ 1.00000199986 2.99999308898\n",
      "deltaV -0.693033314543\n",
      "$e^-$ -21.6037244886 -21.6037244886\n",
      "$M^+$ 11.5679449397 11.5679449397\n",
      "$A^-$ -22.3574434648 -22.3574434648\n",
      "dt 0.0732421875\n",
      "-7.7882582286 1.17901975488 -0.0586742840926\n",
      "-7.7882582286 0.534547662721 -0.0345793459804\n",
      "-7.7882582286 0.243407145993 -0.0412325708394\n",
      "-7.7882582286 0.215933359653 -0.0492376309343\n",
      "-7.7882582286 0.288592485178 -0.0407863512617\n",
      "-7.7882582286 0.204731802415 -0.048835187382\n",
      "-7.7882582286 0.237155311796 -0.0534676289416\n",
      "-7.7882582286 0.307349583425 -0.0536448860992\n",
      "-7.7882582286 0.271625116795 -0.048772465718\n",
      "-7.7882582286 0.242815431581 -0.0508040879099\n"
     ]
    }
   ],
   "source": [
    "!python elphf0226.py --galvani_potential=\"-0.2 V\" --ncells=1200 --relaxation=0.8 --outer_sweeps=10 --output=\"-0.2_V.tsv\" "
   ]
  },
  {
   "cell_type": "code",
   "execution_count": 20,
   "metadata": {
    "collapsed": false
   },
   "outputs": [
    {
     "data": {
      "image/png": "[encoded data removed]",
      "text/plain": [
       "<matplotlib.figure.Figure at 0x1115d1d10>"
      ]
     },
     "metadata": {},
     "output_type": "display_data"
    }
   ],
   "source": [
    "viewElPhF(\"-0.2_V.tsv\")"
   ]
  },
  {
   "cell_type": "markdown",
   "metadata": {},
   "source": [
    "Restart from previous solution at different Galvani potential does not result in \"correct\" equilibrium. Stabilizes at something with non-uniform electrochemical potentials. Possibly because equations are not well-coupled?"
   ]
  },
  {
   "cell_type": "code",
   "execution_count": 21,
   "metadata": {
    "collapsed": false
   },
   "outputs": [
    {
     "name": "stdout",
     "output_type": "stream",
     "text": [
      "L = 3.2 nm\n",
      "barrier 145.295286758\n",
      "$e^-$ 1.99986486829e-06 1.99999308898\n",
      "$M^+$ 0.0045 0.999996732016\n",
      "$A^-$ 0.00449900006757 1.87524045318e-07\n",
      "$N$ 0.991000999932 3.08045960254e-06\n",
      "$m$ 1.00000199986 2.99999308898\n",
      "deltaV -0.693033314543\n",
      "$e^-$ -21.6037244886 -21.6037244886\n",
      "$M^+$ 11.5679449397 11.5679449397\n",
      "$A^-$ -22.3574434648 -22.3574434648\n",
      "dt 0.0732421875\n",
      "-7.7882582286 0.514142322507 -0.0493422702498\n",
      "-7.7882582286 0.476266693105 -0.0191724100742\n",
      "-7.7882582286 0.474455014125 -0.0211037645707\n",
      "-7.7882582286 0.471256640525 -0.0224781968418\n",
      "-7.7882582286 0.468279960218 -0.0237815993813\n",
      "-7.7882582286 0.467055420321 -0.0246211029322\n",
      "-7.7882582286 0.465573490401 -0.0253594284407\n",
      "-7.7882582286 0.463972555068 -0.0260162440083\n",
      "-7.7882582286 0.462295607716 -0.0265982153975\n",
      "-7.7882582286 0.460734915917 -0.0271062200113\n"
     ]
    }
   ],
   "source": [
    "!python elphf0226.py --galvani_potential=\"-0.2 V\" --ncells=1200 --relaxation=0.8 --outer_sweeps=10 --output=\"-0.2_Vb.tsv\" --restart=\"0.0_V.tsv\" "
   ]
  },
  {
   "cell_type": "code",
   "execution_count": 22,
   "metadata": {
    "collapsed": false
   },
   "outputs": [
    {
     "data": {
      "image/png": "[encoded data removed]",
      "text/plain": [
       "<matplotlib.figure.Figure at 0x111a75c50>"
      ]
     },
     "metadata": {},
     "output_type": "display_data"
    }
   ],
   "source": [
    "viewElPhF(\"-0.2_Vb.tsv\")"
   ]
  },
  {
   "cell_type": "code",
   "execution_count": 5,
   "metadata": {
    "collapsed": false
   },
   "outputs": [
    {
     "data": {
      "text/plain": [
       "'1.23 3.14 5'"
      ]
     },
     "execution_count": 5,
     "metadata": {},
     "output_type": "execute_result"
    }
   ],
   "source": [
    "\"{0} {1} {2}\".format(1.23, 3.14, 5)"
   ]
  },
  {
   "cell_type": "code",
   "execution_count": 12,
   "metadata": {
    "collapsed": false
   },
   "outputs": [
    {
     "name": "stdout",
     "output_type": "stream",
     "text": [
      "{u'galvani_potential': u'0 V', u'relaxation': 1.0, u'concentration': u'0.25 mol/l', u'outer_sweeps': 10, u'ncells': 120}\n",
      "L = 3.2 nm\n",
      "barrier 145.295286758\n",
      "0.018 l/mol\n",
      "Traceback (most recent call last):\n",
      "  File \"elphf0226.py\", line 169, in <module>\n",
      "    YM = (Vs * params[\"concentration\"]).inBaseUnits()\n",
      "  File \"/data/ame2/fipy/fipy/variables/variable.py\", line 275, in inBaseUnits\n",
      "    value = self.value\n",
      "  File \"/data/ame2/fipy/fipy/variables/variable.py\", line 512, in _getValue\n",
      "    value = self._calcValue()\n",
      "  File \"/data/ame2/fipy/fipy/variables/operatorVariable.py\", line 72, in _calcValue\n",
      "    return self._calcValue_()\n",
      "  File \"/data/ame2/fipy/fipy/variables/binaryOperatorVariable.py\", line 81, in _calcValue_\n",
      "    return self.op(self.var[0].value, val1)\n",
      "  File \"/data/ame2/fipy/fipy/variables/variable.py\", line 1105, in <lambda>\n",
      "    return self._BinaryOperatorVariable(lambda a,b: a*b, other)\n",
      "  File \"/data/ame2/fipy/fipy/tools/dimensions/physicalField.py\", line 382, in __mul__\n",
      "    return self.__class__(value = self.value*other, unit = self.unit)\n",
      "TypeError: unsupported operand type(s) for *: 'numpy.ndarray' and 'numpy.ndarray'\n"
     ]
    }
   ],
   "source": [
    "!python elphf0226.py params.json"
   ]
  },
  {
   "cell_type": "code",
   "execution_count": 4,
   "metadata": {
    "collapsed": false
   },
   "outputs": [
    {
     "name": "stdout",
     "output_type": "stream",
     "text": [
      "Multiple versions found, using /data/ame2/miniconda/envs/fipy/bin/python. If you wish to use a different version, please specify it explicitly\n",
      "Multiple versions found, using /data/ame2/miniconda/envs/fipy/bin/python. If you wish to use a different version, please specify it explicitly\n"
     ]
    }
   ],
   "source": [
    "%%bash\n",
    "\n",
    "smt configure --executable=python\n",
    "smt configure --labelgenerator=uuid\n",
    "smt configure --on-changed=store-diff\n",
    "smt configure --addlabel=parameters\n"
   ]
  },
  {
   "cell_type": "code",
   "execution_count": 2,
   "metadata": {
    "collapsed": false
   },
   "outputs": [
    {
     "name": "stdout",
     "output_type": "stream",
     "text": [
      "mkdir: cannot create directory ‘Data’: File exists\r\n"
     ]
    }
   ],
   "source": [
    "!mkdir Data"
   ]
  },
  {
   "cell_type": "code",
   "execution_count": 3,
   "metadata": {
    "collapsed": false
   },
   "outputs": [
    {
     "name": "stdout",
     "output_type": "stream",
     "text": [
      "0.0_V.tsv  elphf0226.py\t\t     matplotlibElPhFViewer.pyc\tparams.json\r\n",
      "Data\t   matplotlibElPhFViewer.py  notes.ipynb\t\ttest.txt\r\n"
     ]
    }
   ],
   "source": [
    "!ls"
   ]
  },
  {
   "cell_type": "code",
   "execution_count": 7,
   "metadata": {
    "collapsed": false
   },
   "outputs": [
    {
     "name": "stdout",
     "output_type": "stream",
     "text": [
      "Multiple versions found, using /data/ame2/miniconda/envs/fipy/bin/python. If you wish to use a different version, please specify it explicitly\n",
      "L = 0.2 nm\n",
      "barrier 145.295286758\n",
      "$e^-$ 1.99986486829e-06 1.99999308898\n",
      "$M^+$ 0.0045 0.999996732016\n",
      "$A^-$ 0.00449900006757 1.87524045318e-07\n",
      "$N$ 0.991000999932 3.08045960254e-06\n",
      "$m$ 1.00000199986 2.99999308898\n",
      "deltaV -0.693033314543\n",
      "$e^-$ -13.8154662599 -13.8154662599\n",
      "$M^+$ -4.00857151748 -4.00857151748\n",
      "$A^-$ -6.78092700755 -6.78092700755\n",
      "dt 18.75\n",
      "0.0 12.3490736097 0.136109939986\n",
      "0.0 10.0694676771 0.152441858059\n",
      "0.0 9.55151171216 0.138678784783\n",
      "0.0 9.27872387553 0.12596389781\n",
      "0.0 9.0943202062 0.116036336175\n",
      "0.0 8.95890366306 0.10850793993\n",
      "0.0 8.85436104817 0.102916215126\n",
      "0.0 8.77078747164 0.0988594132714\n",
      "0.0 8.64396552773 0.0943117284487\n",
      "Record label for this run: 'ce503af2e3b1'\n",
      "Data keys are [test.txt(a9591dbf41feaf5484966b5d3e18bdce3bb156e5 [2016-07-07 09:48:57]), output.tsv(358b925e217234d7360ba721e6e98a2ccd82a74a [2016-07-07 09:49:04])]\n"
     ]
    }
   ],
   "source": [
    "!smt run --main=elphf0226.py params.json"
   ]
  },
  {
   "cell_type": "code",
   "execution_count": 11,
   "metadata": {
    "collapsed": false
   },
   "outputs": [
    {
     "name": "stdout",
     "output_type": "stream",
     "text": [
      "Multiple versions found, using /data/ame2/miniconda/envs/fipy/bin/python. If you wish to use a different version, please specify it explicitly\n",
      "L = 0.2 nm\n",
      "barrier 145.295286758\n",
      "$e^-$ 1.99986486829e-06 1.99999308898\n",
      "$M^+$ 0.0045 0.999996732016\n",
      "$A^-$ 0.00449900006757 1.87524045318e-07\n",
      "$N$ 0.991000999932 3.08045960254e-06\n",
      "$m$ 1.00000199986 2.99999308898\n",
      "deltaV -0.693033314543\n",
      "$e^-$ -13.8154662599 -13.8154662599\n",
      "$M^+$ -4.00857151748 -4.00857151748\n",
      "$A^-$ -6.78092700755 -6.78092700755\n",
      "dt 18.75\n",
      "0.0 12.3490736097 0.136109939986\n",
      "0.0 10.0694676771 0.152441858059\n",
      "0.0 9.55151171216 0.138678784783\n",
      "0.0 9.27872387553 0.12596389781\n",
      "0.0 9.0943202062 0.116036336175\n",
      "0.0 8.95890366306 0.10850793993\n",
      "0.0 8.85436104817 0.102916215126\n",
      "0.0 8.77078747164 0.0988594132714\n",
      "0.0 8.64396552773 0.0943117284487\n",
      "Record label for this run: '9f5e858fbfba'\n",
      "Data keys are [test.txt(a9591dbf41feaf5484966b5d3e18bdce3bb156e5 [2016-07-07 10:28:25]), output.tsv(358b925e217234d7360ba721e6e98a2ccd82a74a [2016-07-07 10:28:32])]\n",
      "Multiple versions found, using /data/ame2/miniconda/envs/fipy/bin/python. If you wish to use a different version, please specify it explicitly\n",
      "L = 0.2 nm\n",
      "barrier 145.295286758\n",
      "$e^-$ 1.99986486829e-06 1.99999308898\n",
      "$M^+$ 0.0045 0.999996732016\n",
      "$A^-$ 0.00449900006757 1.87524045318e-07\n",
      "$N$ 0.991000999932 3.08045960254e-06\n",
      "$m$ 1.00000199986 2.99999308898\n",
      "deltaV -0.693033314543\n",
      "$e^-$ 5.65517931156 5.65517931156\n",
      "$M^+$ -42.9498626605 -42.9498626605\n",
      "$A^-$ 32.1603641355 32.1603641355\n",
      "dt 18.75\n",
      "19.4706455715 -0.79225652764 0.238288753164\n",
      "19.4706455715 -1.11571187892 0.195132771473\n",
      "19.4706455715 -1.49090530883 0.152757452749\n",
      "19.4706455715 -1.79946577313 0.11344484743\n",
      "19.4706455715 -2.08270292519 0.0769973425906\n",
      "19.4706455715 -2.37034315524 0.0433143802426\n",
      "19.4706455715 -2.68426073404 0.0123829233864\n",
      "19.4706455715 -3.04332518167 -0.0170572162447\n",
      "19.4706455715 -3.91584141341 -0.0741889130544\n",
      "Record label for this run: 'fb8bd6659762'\n",
      "Data keys are [test.txt(66be4ea7f2dddde5ffb94bda9bb3638f65fe4324 [2016-07-07 10:30:11]), output.tsv(75ca18290acd08e37d649dcbb6935aa162c39bfc [2016-07-07 10:30:18])]\n"
     ]
    }
   ],
   "source": [
    "for galvani in fp.numerix.linspace(0,0.5,2):\n",
    "    galvanistring=\"{0} V\".format(galvani)\n",
    "    !smt run --main=elphf0226.py params.json galvani_potential=\"$galvani V\""
   ]
  },
  {
   "cell_type": "code",
   "execution_count": null,
   "metadata": {
    "collapsed": false
   },
   "outputs": [
    {
     "name": "stdout",
     "output_type": "stream",
     "text": [
      "Multiple versions found, using /data/ame2/miniconda/envs/fipy/bin/python. If you wish to use a different version, please specify it explicitly\n",
      "L = 0.2 nm\n",
      "barrier 145.295286758\n",
      "$e^-$ 9.99929569675e-07 1.99998200311\n",
      "$M^+$ 0.018 0.999994002517\n",
      "$A^-$ 0.0179995000352 3.00096023745e-06\n",
      "$N$ 0.964000499965 2.99652229725e-06\n",
      "$m$ 1.00000099993 2.99998200311\n",
      "deltaV 0.000113883086873\n",
      "$e^-$ -13.8154681076 -13.8154681076\n",
      "$M^+$ -3.98094782152 -3.98094782152\n",
      "$A^-$ -3.98052006538 -3.98052006538\n",
      "dt 18.75\n",
      "0.0 12.4590035534 0.158860690131\n",
      "0.0 10.2536001745 0.175339457815\n",
      "0.0 9.76571214301 0.160456419206\n",
      "0.0 9.51575278269 0.145195160722\n",
      "0.0 9.35093254852 0.131984299133\n",
      "0.0 9.23266290869 0.120789330679\n",
      "0.0 9.14383672961 0.111283276794\n",
      "0.0 9.07490639644 0.103155085573\n",
      "0.0 8.97544918148 0.0900599754228\n",
      "Record label for this run: 'f6f9f3823807'\n",
      "Data keys are [test.txt(448161d6fb38a672736e08732aa9a9bee9f5125c [2016-07-07 14:45:58]), output.tsv(8da89196816c40b313fde5ea2d348feac0d13467 [2016-07-07 14:46:06])]\n",
      "Multiple versions found, using /data/ame2/miniconda/envs/fipy/bin/python. If you wish to use a different version, please specify it explicitly\n",
      "L = 0.2 nm\n",
      "barrier 145.295286758\n",
      "$e^-$ 9.99929569675e-07 1.99998200311\n",
      "$M^+$ 0.018 0.999994002517\n",
      "$A^-$ 0.0179995000352 3.00096023745e-06\n",
      "$N$ 0.964000499965 2.99652229725e-06\n",
      "$m$ 1.00000099993 2.99998200311\n",
      "deltaV 0.000113883086873\n",
      "$e^-$ -13.61879492 -13.61879492\n",
      "$M^+$ -4.37429419671 -4.37429419671\n",
      "$A^-$ -3.5871736902 -3.5871736902\n",
      "dt 18.75\n",
      "0.196673187591 12.4734206332 0.164743289572\n",
      "0.196673187591 10.2774920083 0.181605577523\n",
      "0.196673187591 9.79005966962 0.168510326685\n",
      "0.196673187591 9.53852076298 0.154729324397\n",
      "0.196673187591 9.3721559784 0.142628873725\n",
      "0.196673187591 9.25265836242 0.13227225499\n",
      "0.196673187591 9.16287864917 0.123414264031\n",
      "0.196673187591 9.09320402963 0.115798951937\n",
      "0.196673187591 8.99269381108 0.103459214227\n",
      "Record label for this run: '7c189f7f8d8a'\n",
      "Data keys are [test.txt(5817d25f1c28fafff83309675cb458cab7ee8852 [2016-07-07 14:48:29]), output.tsv(b4223187d9ea3eb28660da0d29a863d64aba3993 [2016-07-07 14:48:37])]\n",
      "Multiple versions found, using /data/ame2/miniconda/envs/fipy/bin/python. If you wish to use a different version, please specify it explicitly\n",
      "L = 0.2 nm\n",
      "barrier 145.295286758\n",
      "$e^-$ 9.99929569675e-07 1.99998200311\n",
      "$M^+$ 0.018 0.999994002517\n",
      "$A^-$ 0.0179995000352 3.00096023745e-06\n",
      "$N$ 0.964000499965 2.99652229725e-06\n",
      "$m$ 1.00000099993 2.99998200311\n",
      "deltaV 0.000113883086873\n",
      "$e^-$ -13.4221217324 -13.4221217324\n",
      "$M^+$ -4.76764057189 -4.76764057189\n",
      "$A^-$ -3.19382731502 -3.19382731502\n",
      "dt 18.75\n",
      "0.393346375182 12.4848402732 0.170673062019\n",
      "0.393346375182 10.2975824396 0.187840406161\n",
      "0.393346375182 9.81086200749 0.176555808064\n",
      "0.393346375182 9.5579557592 0.164288827677\n",
      "0.393346375182 9.39018645987 0.153335203143\n",
      "0.393346375182 9.26954797847 0.14385214078\n",
      "0.393346375182 9.17887380318 0.135674150032\n",
      "0.393346375182 9.10849760779 0.128599817686\n",
      "0.393346375182 9.00698818559 0.117061911031\n",
      "Record label for this run: 'd8204b5454c5'\n",
      "Data keys are [test.txt(d9bfcb56c427acf2b98a0134a322f887b6c88b23 [2016-07-07 14:51:00]), output.tsv(8194ec3e3e23e59d651ddc02dea588ec68d555e3 [2016-07-07 14:51:08])]\n",
      "Multiple versions found, using /data/ame2/miniconda/envs/fipy/bin/python. If you wish to use a different version, please specify it explicitly\n",
      "L = 0.2 nm\n",
      "barrier 145.295286758\n",
      "$e^-$ 9.99929569675e-07 1.99998200311\n",
      "$M^+$ 0.018 0.999994002517\n",
      "$A^-$ 0.0179995000352 3.00096023745e-06\n",
      "$N$ 0.964000499965 2.99652229725e-06\n",
      "$m$ 1.00000099993 2.99998200311\n",
      "deltaV 0.000113883086873\n",
      "$e^-$ -13.2254485448 -13.2254485448\n",
      "$M^+$ -5.16098694707 -5.16098694707\n",
      "$A^-$ -2.80048093984 -2.80048093984\n",
      "dt 18.75\n",
      "0.590019562772 12.4928016551 0.176635865094\n",
      "0.590019562772 10.3136591242 0.194024317067\n",
      "0.590019562772 9.82793639964 0.18456368572\n",
      "0.590019562772 9.57388528145 0.173835993286\n",
      "0.590019562772 9.40485325384 0.16405958557\n",
      "0.590019562772 9.28316536064 0.155480916423\n",
      "0.590019562772 9.19165731637 0.148011801517\n",
      "0.590019562772 9.12062093499 0.14150457268\n",
      "0.590019562772 9.0181653773 0.130812011317\n",
      "Record label for this run: 'f39c06300e73'\n",
      "Data keys are [test.txt(cb02d11b9b6afe13f2561df9399df46bc6a58edd [2016-07-07 14:52:59]), output.tsv(788515111ab788f80845ff036d41bd4ebb7a579d [2016-07-07 14:53:07])]\n",
      "Multiple versions found, using /data/ame2/miniconda/envs/fipy/bin/python. If you wish to use a different version, please specify it explicitly\n",
      "L = 0.2 nm\n",
      "barrier 145.295286758\n",
      "$e^-$ 9.99929569675e-07 1.99998200311\n",
      "$M^+$ 0.018 0.999994002517\n",
      "$A^-$ 0.0179995000352 3.00096023745e-06\n",
      "$N$ 0.964000499965 2.99652229725e-06\n",
      "$m$ 1.00000099993 2.99998200311\n",
      "deltaV 0.000113883086873\n",
      "$e^-$ -13.0287753572 -13.0287753572\n",
      "$M^+$ -5.55433332225 -5.55433332225\n",
      "$A^-$ -2.40713456466 -2.40713456466\n",
      "dt 18.75\n",
      "0.786692750363 12.4968094959 0.1826029766\n",
      "0.786692750363 10.3255076673 0.200130524043\n",
      "0.786692750363 9.84110081044 0.192497316284\n",
      "0.786692750363 9.58613938289 0.183325669941\n",
      "0.786692750363 9.41599355703 0.174750745828\n",
      "0.786692750363 9.29335297958 0.167102822556\n",
      "0.786692750363 9.20107439988 0.160368182165\n",
      "0.786692750363 9.12942075269 0.154451733053\n",
      "0.786692750363 9.02607043332 0.144645079051\n",
      "Record label for this run: '3f55a5d01578'\n",
      "Data keys are [test.txt(032f025a0afd22507ab57e388a9e0a4935163bd1 [2016-07-07 14:55:17]), output.tsv(cb54ca9c897b626e13f016591127138cca925b7b [2016-07-07 14:55:25])]\n",
      "Multiple versions found, using /data/ame2/miniconda/envs/fipy/bin/python. If you wish to use a different version, please specify it explicitly\n",
      "L = 0.2 nm\n",
      "barrier 145.295286758\n",
      "$e^-$ 9.99929569675e-07 1.99998200311\n",
      "$M^+$ 0.018 0.999994002517\n",
      "$A^-$ 0.0179995000352 3.00096023745e-06\n",
      "$N$ 0.964000499965 2.99652229725e-06\n",
      "$m$ 1.00000099993 2.99998200311\n",
      "deltaV 0.000113883086873\n",
      "$e^-$ -12.8321021697 -12.8321021697\n",
      "$M^+$ -5.94767969743 -5.94767969743\n",
      "$A^-$ -2.01378818948 -2.01378818948\n",
      "dt 18.75\n",
      "0.983365937954 12.4963648216 0.188537975835\n",
      "0.983365937954 10.3329247708 0.206129496136\n",
      "0.983365937954 9.85018746711 0.200317771608\n",
      "0.983365937954 9.5945621981 0.192710237848\n",
      "0.983365937954 9.42346137489 0.185354193508\n",
      "0.983365937954 9.2999682742 0.178658737367\n",
      "0.983365937954 9.20698365235 0.172680850361\n",
      "0.983365937954 9.13475687419 0.167376420464\n",
      "0.983365937954 9.03056321082 0.158492823034\n",
      "Record label for this run: 'e87a43acb96b'\n",
      "Data keys are [test.txt(626325ec7904d396c601fe7cb86b9179b881dc0d [2016-07-07 14:57:30]), output.tsv(a094283b9bb16c3b7671fd68513750a7dcf80de9 [2016-07-07 14:57:39])]\n",
      "Multiple versions found, using /data/ame2/miniconda/envs/fipy/bin/python. If you wish to use a different version, please specify it explicitly\n",
      "L = 0.2 nm\n",
      "barrier 145.295286758\n",
      "$e^-$ 9.99929569675e-07 1.99998200311\n",
      "$M^+$ 0.018 0.999994002517\n",
      "$A^-$ 0.0179995000352 3.00096023745e-06\n",
      "$N$ 0.964000499965 2.99652229725e-06\n",
      "$m$ 1.00000099993 2.99998200311\n",
      "deltaV 0.000113883086873\n",
      "$e^-$ -12.6354289821 -12.6354289821\n",
      "$M^+$ -6.34102607261 -6.34102607261\n",
      "$A^-$ -1.62044181429 -1.62044181429\n",
      "dt 18.75\n",
      "1.18003912554 12.4909868636 0.194402145879\n",
      "1.18003912554 10.335715923 0.211991992699\n",
      "1.18003912554 9.85504075759 0.207986390873\n",
      "1.18003912554 9.59901269908 0.201941971177\n",
      "1.18003912554 9.42712278378 0.195815652012\n",
      "1.18003912554 9.30288118032 0.190089285912\n",
      "1.18003912554 9.20925775951 0.184886748431\n",
      "1.18003912554 9.1365026602 0.180212864099\n",
      "1.18003912554 9.03151763024 0.172285981208\n",
      "Record label for this run: 'edbff8c37908'\n",
      "Data keys are [test.txt(05948c5925458b8b138c30e28697c277fa149be1 [2016-07-07 14:59:31]), output.tsv(8f4505ba9c033295bff450fb9390a0ab01d3a4d3 [2016-07-07 14:59:39])]\n",
      "Multiple versions found, using /data/ame2/miniconda/envs/fipy/bin/python. If you wish to use a different version, please specify it explicitly\n",
      "L = 0.2 nm\n",
      "barrier 145.295286758\n",
      "$e^-$ 9.99929569675e-07 1.99998200311\n",
      "$M^+$ 0.018 0.999994002517\n",
      "$A^-$ 0.0179995000352 3.00096023745e-06\n",
      "$N$ 0.964000499965 2.99652229725e-06\n",
      "$m$ 1.00000099993 2.99998200311\n",
      "deltaV 0.000113883086873\n",
      "$e^-$ -12.4387557945 -12.4387557945\n",
      "$M^+$ -6.73437244779 -6.73437244779\n",
      "$A^-$ -1.22709543911 -1.22709543911\n",
      "dt 18.75\n",
      "1.37671231314 12.4802270881 0.200158244531\n",
      "1.37671231314 10.3336970447 0.217691040902\n",
      "1.37671231314 9.85551171624 0.215466890666\n",
      "1.37671231314 9.59935932295 0.210975909836\n",
      "1.37671231314 9.42685434347 0.206083214092\n",
      "1.37671231314 9.30197298729 0.201337411692\n",
      "1.37671231314 9.20778233126 0.196924944402\n",
      "1.37671231314 9.13454460173 0.192897222663\n",
      "1.37671231314 9.0288205375 0.185956835287\n",
      "Record label for this run: '2c2f35fc5130'\n",
      "Data keys are [test.txt(f56e9a78421c45ca2fa434b2be4f8234ae8b4a23 [2016-07-07 15:01:38]), output.tsv(80eaa080cb2a1ac8053f98186b97b7a7ed1ecd44 [2016-07-07 15:01:46])]\n",
      "Multiple versions found, using /data/ame2/miniconda/envs/fipy/bin/python. If you wish to use a different version, please specify it explicitly\n",
      "L = 0.2 nm\n",
      "barrier 145.295286758\n",
      "$e^-$ 9.99929569675e-07 1.99998200311\n",
      "$M^+$ 0.018 0.999994002517\n",
      "$A^-$ 0.0179995000352 3.00096023745e-06\n",
      "$N$ 0.964000499965 2.99652229725e-06\n",
      "$m$ 1.00000099993 2.99998200311\n",
      "deltaV 0.000113883086873\n",
      "$e^-$ -12.2420826069 -12.2420826069\n",
      "$M^+$ -7.12771882298 -7.12771882298\n",
      "$A^-$ -0.833749063931 -0.833749063931\n",
      "dt 18.75\n",
      "1.57338550073 12.4636771464 0.205772840998\n",
      "1.57338550073 10.3266951881 0.223203053399\n",
      "1.57338550073 9.85145968887 0.222726613376\n",
      "1.57338550073 9.59547508906 0.219770764041\n",
      "1.57338550073 9.42253846713 0.216108769905\n",
      "1.57338550073 9.297135114 0.212349685768\n",
      "1.57338550073 9.20245086073 0.2087379817\n",
      "1.57338550073 9.12877923834 0.205368979925\n",
      "1.57338550073 9.02237063735 0.199440655692\n",
      "Record label for this run: 'a2c7bd6d9551'\n",
      "Data keys are [test.txt(2263e60c63bcc1d6ad7d53f90e19f4ef795b6fe4 [2016-07-07 15:03:40]), output.tsv(003da70d272f434e8cc630241307bee558e3c27c [2016-07-07 15:03:48])]\n",
      "Multiple versions found, using /data/ame2/miniconda/envs/fipy/bin/python. If you wish to use a different version, please specify it explicitly\n",
      "L = 0.2 nm\n",
      "barrier 145.295286758\n",
      "$e^-$ 9.99929569675e-07 1.99998200311\n",
      "$M^+$ 0.018 0.999994002517\n",
      "$A^-$ 0.0179995000352 3.00096023745e-06\n",
      "$N$ 0.964000499965 2.99652229725e-06\n",
      "$m$ 1.00000099993 2.99998200311\n",
      "deltaV 0.000113883086873\n",
      "$e^-$ -12.0454094193 -12.0454094193\n",
      "$M^+$ -7.52106519816 -7.52106519816\n",
      "$A^-$ -0.440402688749 -0.440402688749\n",
      "dt 18.75\n",
      "1.77005868832 12.4409725489 0.211217542081\n",
      "1.77005868832 10.3145487874 0.228508305311\n",
      "1.77005868832 9.84275381226 0.229737096321\n",
      "1.77005868832 9.58724380191 0.228290109557\n",
      "1.77005868832 9.41407025343 0.225849218378\n",
      "1.77005868832 9.28826592187 0.223077678362\n",
      "1.77005868832 9.19316655482 0.220273283811\n",
      "1.77005868832 9.11911339136 0.217572305145\n",
      "1.77005868832 9.01207828349 0.212677138451\n",
      "Record label for this run: '9120940f2f8e'\n",
      "Data keys are [test.txt(b79aae0457940ba94c3a5973ddb84c934e69eebb [2016-07-07 15:05:44]), output.tsv(b494965375d103f0c7c3d9ba154d669d7cd9e6d9 [2016-07-07 15:05:52])]\n",
      "Multiple versions found, using /data/ame2/miniconda/envs/fipy/bin/python. If you wish to use a different version, please specify it explicitly\n",
      "L = 0.2 nm\n",
      "barrier 145.295286758\n",
      "$e^-$ 9.99929569675e-07 1.99998200311\n",
      "$M^+$ 0.018 0.999994002517\n",
      "$A^-$ 0.0179995000352 3.00096023745e-06\n",
      "$N$ 0.964000499965 2.99652229725e-06\n",
      "$m$ 1.00000099993 2.99998200311\n",
      "deltaV 0.000113883086873\n",
      "$e^-$ -11.8487362317 -11.8487362317\n",
      "$M^+$ -7.91441157335 -7.91441157335\n",
      "$A^-$ -0.0470563135598 -0.0470563135598\n",
      "dt 18.75\n",
      "1.96673187591 12.4117935479 0.216469432001\n",
      "1.96673187591 10.2971076856 0.233591006418\n",
      "1.96673187591 9.82927338123 0.236474493447\n",
      "1.96673187591 9.57455670855 0.236502354342\n",
      "1.96673187591 9.40134650936 0.235266536386\n",
      "1.96673187591 9.27527068422 0.233478224482\n",
      "1.96673187591 9.17984023971 0.231483460454\n",
      "1.96673187591 9.10546036702 0.229456512955\n",
      "1.96673187591 8.99786006982 0.225610952136\n",
      "Record label for this run: '1d98872227dc'\n",
      "Data keys are [test.txt(52db3ffee807fb03e5f9eb46c8af7a76ec88a04b [2016-07-07 15:07:43]), output.tsv(29901c96d53832c438bd766378f4229a8419508e [2016-07-07 15:07:51])]\n",
      "Multiple versions found, using /data/ame2/miniconda/envs/fipy/bin/python. If you wish to use a different version, please specify it explicitly\n"
     ]
    }
   ],
   "source": [
    "for galvani in fp.numerix.linspace(0,0.5,100):\n",
    "    galvanistring=\"{0} V\".format(galvani)\n",
    "    !smt run --main=elphf0226.py params.json galvani_potential=\"$galvani V\" ncells=1200 concentration=\"1.00 mol/l\""
   ]
  },
  {
   "cell_type": "code",
   "execution_count": 4,
   "metadata": {
    "collapsed": false,
    "scrolled": true
   },
   "outputs": [],
   "source": [
    "import json\n",
    "import pandas\n",
    "\n",
    "!smt export\n",
    "with open(\".smt/records_export.json\") as ff:\n",
    "    data = json.load(ff)\n",
    "    \n",
    "df = pandas.DataFrame(data)"
   ]
  },
  {
   "cell_type": "code",
   "execution_count": 5,
   "metadata": {
    "collapsed": false
   },
   "outputs": [
    {
     "data": {
      "text/html": [
       "<div>\n",
       "<table border=\"1\" class=\"dataframe\">\n",
       "  <thead>\n",
       "    <tr style=\"text-align: right;\">\n",
       "      <th></th>\n",
       "      <th>label</th>\n",
       "      <th>outcome</th>\n",
       "      <th>parameters</th>\n",
       "    </tr>\n",
       "  </thead>\n",
       "  <tbody>\n",
       "    <tr>\n",
       "      <th>0</th>\n",
       "      <td>752d482fd147</td>\n",
       "      <td></td>\n",
       "      <td>{u'content': u'{\n",
       "    \"concentration\": \"0.25 mo...</td>\n",
       "    </tr>\n",
       "    <tr>\n",
       "      <th>1</th>\n",
       "      <td>859540b7dc58</td>\n",
       "      <td></td>\n",
       "      <td>{u'content': u'{\n",
       "    \"concentration\": \"0.25 mo...</td>\n",
       "    </tr>\n",
       "    <tr>\n",
       "      <th>2</th>\n",
       "      <td>461063187bf1</td>\n",
       "      <td></td>\n",
       "      <td>{u'content': u'{\n",
       "    \"concentration\": \"0.25 mo...</td>\n",
       "    </tr>\n",
       "    <tr>\n",
       "      <th>3</th>\n",
       "      <td>d92a9ab18f85</td>\n",
       "      <td></td>\n",
       "      <td>{u'content': u'{\n",
       "    \"concentration\": \"0.25 mo...</td>\n",
       "    </tr>\n",
       "    <tr>\n",
       "      <th>4</th>\n",
       "      <td>4f16adc0864f</td>\n",
       "      <td></td>\n",
       "      <td>{u'content': u'{\n",
       "    \"concentration\": \"0.25 mo...</td>\n",
       "    </tr>\n",
       "    <tr>\n",
       "      <th>5</th>\n",
       "      <td>d1560657d882</td>\n",
       "      <td></td>\n",
       "      <td>{u'content': u'{\n",
       "    \"concentration\": \"0.25 mo...</td>\n",
       "    </tr>\n",
       "    <tr>\n",
       "      <th>6</th>\n",
       "      <td>510fe4fa84be</td>\n",
       "      <td></td>\n",
       "      <td>{u'content': u'{\n",
       "    \"concentration\": \"0.25 mo...</td>\n",
       "    </tr>\n",
       "    <tr>\n",
       "      <th>7</th>\n",
       "      <td>3688033e3d9a</td>\n",
       "      <td></td>\n",
       "      <td>{u'content': u'{\n",
       "    \"concentration\": \"0.25 mo...</td>\n",
       "    </tr>\n",
       "    <tr>\n",
       "      <th>8</th>\n",
       "      <td>c2dc256dd747</td>\n",
       "      <td></td>\n",
       "      <td>{u'content': u'{\n",
       "    \"concentration\": \"0.25 mo...</td>\n",
       "    </tr>\n",
       "    <tr>\n",
       "      <th>9</th>\n",
       "      <td>4791473e2a24</td>\n",
       "      <td></td>\n",
       "      <td>{u'content': u'{\n",
       "    \"concentration\": \"0.25 mo...</td>\n",
       "    </tr>\n",
       "    <tr>\n",
       "      <th>10</th>\n",
       "      <td>9cb11d6eceb3</td>\n",
       "      <td></td>\n",
       "      <td>{u'content': u'{\n",
       "    \"concentration\": \"0.25 mo...</td>\n",
       "    </tr>\n",
       "    <tr>\n",
       "      <th>11</th>\n",
       "      <td>ce503af2e3b1</td>\n",
       "      <td></td>\n",
       "      <td>{u'content': u'{\n",
       "    \"concentration\": \"0.25 mo...</td>\n",
       "    </tr>\n",
       "    <tr>\n",
       "      <th>12</th>\n",
       "      <td>cf2cc308b889</td>\n",
       "      <td></td>\n",
       "      <td>{u'content': u'{\n",
       "    \"concentration\": \"0.25 mo...</td>\n",
       "    </tr>\n",
       "  </tbody>\n",
       "</table>\n",
       "</div>"
      ],
      "text/plain": [
       "           label outcome                                         parameters\n",
       "0   752d482fd147          {u'content': u'{\n",
       "    \"concentration\": \"0.25 mo...\n",
       "1   859540b7dc58          {u'content': u'{\n",
       "    \"concentration\": \"0.25 mo...\n",
       "2   461063187bf1          {u'content': u'{\n",
       "    \"concentration\": \"0.25 mo...\n",
       "3   d92a9ab18f85          {u'content': u'{\n",
       "    \"concentration\": \"0.25 mo...\n",
       "4   4f16adc0864f          {u'content': u'{\n",
       "    \"concentration\": \"0.25 mo...\n",
       "5   d1560657d882          {u'content': u'{\n",
       "    \"concentration\": \"0.25 mo...\n",
       "6   510fe4fa84be          {u'content': u'{\n",
       "    \"concentration\": \"0.25 mo...\n",
       "7   3688033e3d9a          {u'content': u'{\n",
       "    \"concentration\": \"0.25 mo...\n",
       "8   c2dc256dd747          {u'content': u'{\n",
       "    \"concentration\": \"0.25 mo...\n",
       "9   4791473e2a24          {u'content': u'{\n",
       "    \"concentration\": \"0.25 mo...\n",
       "10  9cb11d6eceb3          {u'content': u'{\n",
       "    \"concentration\": \"0.25 mo...\n",
       "11  ce503af2e3b1          {u'content': u'{\n",
       "    \"concentration\": \"0.25 mo...\n",
       "12  cf2cc308b889          {u'content': u'{\n",
       "    \"concentration\": \"0.25 mo..."
      ]
     },
     "execution_count": 5,
     "metadata": {},
     "output_type": "execute_result"
    }
   ],
   "source": [
    "df[[\"label\",\"outcome\",\"parameters\"]]"
   ]
  },
  {
   "cell_type": "code",
   "execution_count": 13,
   "metadata": {
    "collapsed": false
   },
   "outputs": [
    {
     "data": {
      "text/plain": [
       "Index([u'datastore', u'dependencies', u'diff', u'duration', u'executable',\n",
       "       u'input_data', u'input_datastore', u'label', u'launch_mode',\n",
       "       u'main_file', u'outcome', u'output_data', u'parameters', u'platforms',\n",
       "       u'reason', u'repeats', u'repository', u'script_arguments',\n",
       "       u'stdout_stderr', u'tags', u'timestamp', u'user', u'version'],\n",
       "      dtype='object')"
      ]
     },
     "execution_count": 13,
     "metadata": {},
     "output_type": "execute_result"
    }
   ],
   "source": [
    "df.keys()"
   ]
  },
  {
   "cell_type": "code",
   "execution_count": null,
   "metadata": {
    "collapsed": false
   },
   "outputs": [],
   "source": [
    "!ls Data"
   ]
  },
  {
   "cell_type": "code",
   "execution_count": 16,
   "metadata": {
    "collapsed": false
   },
   "outputs": [
    {
     "name": "stdout",
     "output_type": "stream",
     "text": [
      "output.tsv  test.txt\r\n"
     ]
    }
   ],
   "source": [
    "!ls Data/ce503af2e3b1/"
   ]
  },
  {
   "cell_type": "code",
   "execution_count": 18,
   "metadata": {
    "collapsed": false
   },
   "outputs": [
    {
     "name": "stdout",
     "output_type": "stream",
     "text": [
      "0.0 8.7019717058 0.0960640164327\r\n"
     ]
    }
   ],
   "source": [
    "!cat Data/ce503af2e3b1/test.txt"
   ]
  },
  {
   "cell_type": "code",
   "execution_count": 9,
   "metadata": {
    "collapsed": false
   },
   "outputs": [
    {
     "name": "stdout",
     "output_type": "stream",
     "text": [
      "{u'content': u'{\\n    \"concentration\": \"0.25 mol/l\", \\n    \"galvani_potential\": 0.0505050505051, \\n    \"ncells\": 120, \\n    \"outer_sweeps\": 10, \\n    \"relaxation\": 1.0, \\n    \"sumatra_label\": \"752d482fd147\"\\n}', u'type': u'JSONParameterSet'}\n",
      "{u'content': u'{\\n    \"concentration\": \"0.25 mol/l\", \\n    \"galvani_potential\": 0.0454545454545, \\n    \"ncells\": 120, \\n    \"outer_sweeps\": 10, \\n    \"relaxation\": 1.0, \\n    \"sumatra_label\": \"859540b7dc58\"\\n}', u'type': u'JSONParameterSet'}\n",
      "{u'content': u'{\\n    \"concentration\": \"0.25 mol/l\", \\n    \"galvani_potential\": 0.040404040404, \\n    \"ncells\": 120, \\n    \"outer_sweeps\": 10, \\n    \"relaxation\": 1.0, \\n    \"sumatra_label\": \"461063187bf1\"\\n}', u'type': u'JSONParameterSet'}\n",
      "{u'content': u'{\\n    \"concentration\": \"0.25 mol/l\", \\n    \"galvani_potential\": 0.0353535353535, \\n    \"ncells\": 120, \\n    \"outer_sweeps\": 10, \\n    \"relaxation\": 1.0, \\n    \"sumatra_label\": \"d92a9ab18f85\"\\n}', u'type': u'JSONParameterSet'}\n",
      "{u'content': u'{\\n    \"concentration\": \"0.25 mol/l\", \\n    \"galvani_potential\": 0.030303030303, \\n    \"ncells\": 120, \\n    \"outer_sweeps\": 10, \\n    \"relaxation\": 1.0, \\n    \"sumatra_label\": \"4f16adc0864f\"\\n}', u'type': u'JSONParameterSet'}\n",
      "{u'content': u'{\\n    \"concentration\": \"0.25 mol/l\", \\n    \"galvani_potential\": 0.0252525252525, \\n    \"ncells\": 120, \\n    \"outer_sweeps\": 10, \\n    \"relaxation\": 1.0, \\n    \"sumatra_label\": \"d1560657d882\"\\n}', u'type': u'JSONParameterSet'}\n",
      "{u'content': u'{\\n    \"concentration\": \"0.25 mol/l\", \\n    \"galvani_potential\": 0.020202020202, \\n    \"ncells\": 120, \\n    \"outer_sweeps\": 10, \\n    \"relaxation\": 1.0, \\n    \"sumatra_label\": \"510fe4fa84be\"\\n}', u'type': u'JSONParameterSet'}\n",
      "{u'content': u'{\\n    \"concentration\": \"0.25 mol/l\", \\n    \"galvani_potential\": 0.0151515151515, \\n    \"ncells\": 120, \\n    \"outer_sweeps\": 10, \\n    \"relaxation\": 1.0, \\n    \"sumatra_label\": \"3688033e3d9a\"\\n}', u'type': u'JSONParameterSet'}\n",
      "{u'content': u'{\\n    \"concentration\": \"0.25 mol/l\", \\n    \"galvani_potential\": 0.010101010101, \\n    \"ncells\": 120, \\n    \"outer_sweeps\": 10, \\n    \"relaxation\": 1.0, \\n    \"sumatra_label\": \"c2dc256dd747\"\\n}', u'type': u'JSONParameterSet'}\n",
      "{u'content': u'{\\n    \"concentration\": \"0.25 mol/l\", \\n    \"galvani_potential\": 0.00505050505051, \\n    \"ncells\": 120, \\n    \"outer_sweeps\": 10, \\n    \"relaxation\": 1.0, \\n    \"sumatra_label\": \"4791473e2a24\"\\n}', u'type': u'JSONParameterSet'}\n",
      "{u'content': u'{\\n    \"concentration\": \"0.25 mol/l\", \\n    \"galvani_potential\": 0.0, \\n    \"ncells\": 120, \\n    \"outer_sweeps\": 10, \\n    \"relaxation\": 1.0, \\n    \"sumatra_label\": \"9cb11d6eceb3\"\\n}', u'type': u'JSONParameterSet'}\n",
      "{u'content': u'{\\n    \"concentration\": \"0.25 mol/l\", \\n    \"galvani_potential\": \"0 V\", \\n    \"ncells\": 120, \\n    \"outer_sweeps\": 10, \\n    \"relaxation\": 1.0, \\n    \"sumatra_label\": \"ce503af2e3b1\"\\n}', u'type': u'JSONParameterSet'}\n",
      "{u'content': u'{\\n    \"concentration\": \"0.25 mol/l\", \\n    \"galvani_potential\": \"0 V\", \\n    \"ncells\": 120, \\n    \"outer_sweeps\": 10, \\n    \"relaxation\": 1.0, \\n    \"sumatra_label\": \"cf2cc308b889\"\\n}', u'type': u'JSONParameterSet'}\n"
     ]
    }
   ],
   "source": [
    "for r in df[[\"parameters\"]].iterrows():\n",
    "    print r[1][\"parameters\"]"
   ]
  },
  {
   "cell_type": "code",
   "execution_count": null,
   "metadata": {
    "collapsed": true
   },
   "outputs": [],
   "source": []
  }
 ],
 "metadata": {
  "kernelspec": {
   "display_name": "Python 2",
   "language": "python",
   "name": "python2"
  },
  "language_info": {
   "codemirror_mode": {
    "name": "ipython",
    "version": 2
   },
   "file_extension": ".py",
   "mimetype": "text/x-python",
   "name": "python",
   "nbconvert_exporter": "python",
   "pygments_lexer": "ipython2",
   "version": "2.7.12"
  }
 },
 "nbformat": 4,
 "nbformat_minor": 0
}
