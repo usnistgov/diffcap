{
 "cells": [
  {
   "cell_type": "code",
   "execution_count": 1,
   "metadata": {
    "collapsed": true
   },
   "outputs": [],
   "source": [
    "%matplotlib inline"
   ]
  },
  {
   "cell_type": "code",
   "execution_count": 2,
   "metadata": {
    "collapsed": true
   },
   "outputs": [],
   "source": [
    "import fipy as fp"
   ]
  },
  {
   "cell_type": "code",
   "execution_count": 3,
   "metadata": {
    "collapsed": false
   },
   "outputs": [],
   "source": [
    "from matplotlibElPhFViewer import MatplotlibElPhFViewer\n",
    "def viewElPhF(filename, L=\"3.2 nm\", nx=1200):\n",
    "    L = fp.Variable(L)\n",
    "    dx = L / nx\n",
    "    mesh = fp.Grid1D(nx=nx, dx=dx/L)\n",
    "\n",
    "    xi = fp.CellVariable(mesh=mesh, name=r\"$\\xi$\")\n",
    "    phi = fp.CellVariable(mesh=mesh, name=r\"$\\phi$\")  \n",
    "    interstitials = [\n",
    "        fp.CellVariable(mesh=mesh, name=\"$e^-$\")\n",
    "    ]\n",
    "\n",
    "    substitutionals = [\n",
    "        fp.CellVariable(mesh=mesh, name=\"$M^+$\"),\n",
    "        fp.CellVariable(mesh=mesh, name=\"$A^-$\")\n",
    "    ]\n",
    "\n",
    "    N = fp.CellVariable(mesh=mesh, name=\"$N$\")\n",
    "    \n",
    "    components = interstitials + substitutionals + [N]\n",
    "    \n",
    "    for j in components:\n",
    "        j.Y = fp.CellVariable(mesh=mesh, name=j.name)\n",
    "\n",
    "    interstitials[0].z   = -1\n",
    "    substitutionals[0].z = +2\n",
    "    substitutionals[1].z = -2\n",
    "    N.z                  = 0\n",
    "\n",
    "                         \n",
    "    values = fp.numerix.loadtxt(filename, skiprows=1, unpack=True)\n",
    "    \n",
    "    xi.setValue(values[1])\n",
    "    phi.setValue(values[2])\n",
    "    \n",
    "    _start = 3\n",
    "    for j, mu in zip(interstitials + substitutionals,\n",
    "                     values[_start:_start+len(interstitials + substitutionals)]):\n",
    "        j.setValue(mu)\n",
    "\n",
    "    _start = 3 + len(interstitials + substitutionals)\n",
    "    for j, Y in zip(components,\n",
    "                     values[_start:_start+len(components)]):\n",
    "        j.Y.setValue(Y)\n",
    "\n",
    "    charge = fp.CellVariable(mesh=mesh, value=N.z)\n",
    "    for i in interstitials + substitutionals:\n",
    "        charge += i.z * i.Y\n",
    "\n",
    "    viewer = MatplotlibElPhFViewer(phase=xi,\n",
    "                           potential=phi,\n",
    "                           components=[i.Y for i in components],\n",
    "                           charge=charge,\n",
    "                           potentials=[i - i[...,0] for i in interstitials + substitutionals],\n",
    "                           limits={\n",
    "                               'phasemax':1.,\n",
    "                               'phasemin':0.,\n",
    "                           })\n"
   ]
  },
  {
   "cell_type": "markdown",
   "metadata": {},
   "source": [
    "## elphf0226.py"
   ]
  },
  {
   "cell_type": "code",
   "execution_count": null,
   "metadata": {
    "collapsed": false
   },
   "outputs": [],
   "source": [
    "!python elphf0226.py --galvani_potential=\"0.0 V\" --ncells=1200 --relaxation=0.8 --outer_sweeps=10 --output=\"0.0_V.tsv\" "
   ]
  },
  {
   "cell_type": "code",
   "execution_count": null,
   "metadata": {
    "collapsed": false
   },
   "outputs": [],
   "source": [
    "viewElPhF(\"0.0_V.tsv\")"
   ]
  },
  {
   "cell_type": "code",
   "execution_count": null,
   "metadata": {
    "collapsed": false
   },
   "outputs": [],
   "source": [
    "!python elphf0226.py --galvani_potential=\"0.5 V\" --ncells=1200 --relaxation=0.8 --outer_sweeps=10 --output=\"0.5_V.tsv\" "
   ]
  },
  {
   "cell_type": "code",
   "execution_count": null,
   "metadata": {
    "collapsed": false
   },
   "outputs": [],
   "source": [
    "viewElPhF(\"0.5_V.tsv\")"
   ]
  },
  {
   "cell_type": "code",
   "execution_count": null,
   "metadata": {
    "collapsed": false
   },
   "outputs": [],
   "source": [
    "!python elphf0226.py --galvani_potential=\"-0.1 V\" --ncells=1200 --relaxation=0.8 --outer_sweeps=10 --output=\"-0.1_V.tsv\" "
   ]
  },
  {
   "cell_type": "code",
   "execution_count": null,
   "metadata": {
    "collapsed": false
   },
   "outputs": [],
   "source": [
    "viewElPhF(\"-0.1_V.tsv\")"
   ]
  },
  {
   "cell_type": "markdown",
   "metadata": {},
   "source": [
    "Negative Galvani potentials do not converge well. Prone to negative electron concentration, as a result of negative $Y_m$"
   ]
  },
  {
   "cell_type": "code",
   "execution_count": null,
   "metadata": {
    "collapsed": false
   },
   "outputs": [],
   "source": [
    "!python elphf0226.py --galvani_potential=\"-0.2 V\" --ncells=1200 --relaxation=0.8 --outer_sweeps=10 --output=\"-0.2_V.tsv\" "
   ]
  },
  {
   "cell_type": "code",
   "execution_count": null,
   "metadata": {
    "collapsed": false
   },
   "outputs": [],
   "source": [
    "viewElPhF(\"-0.2_V.tsv\")"
   ]
  },
  {
   "cell_type": "markdown",
   "metadata": {},
   "source": [
    "Restart from previous solution at different Galvani potential does not result in \"correct\" equilibrium. Stabilizes at something with non-uniform electrochemical potentials. Possibly because equations are not well-coupled?"
   ]
  },
  {
   "cell_type": "code",
   "execution_count": null,
   "metadata": {
    "collapsed": false
   },
   "outputs": [],
   "source": [
    "!python elphf0226.py --galvani_potential=\"-0.2 V\" --ncells=1200 --relaxation=0.8 --outer_sweeps=10 --output=\"-0.2_Vb.tsv\" --restart=\"0.0_V.tsv\" "
   ]
  },
  {
   "cell_type": "code",
   "execution_count": null,
   "metadata": {
    "collapsed": false
   },
   "outputs": [],
   "source": [
    "viewElPhF(\"-0.2_Vb.tsv\")"
   ]
  },
  {
   "cell_type": "code",
   "execution_count": null,
   "metadata": {
    "collapsed": false
   },
   "outputs": [],
   "source": [
    "\"{0} {1} {2}\".format(1.23, 3.14, 5)"
   ]
  },
  {
   "cell_type": "code",
   "execution_count": null,
   "metadata": {
    "collapsed": false
   },
   "outputs": [],
   "source": [
    "!python elphf0226.py params.json"
   ]
  },
  {
   "cell_type": "code",
   "execution_count": 4,
   "metadata": {
    "collapsed": false
   },
   "outputs": [
    {
     "name": "stdout",
     "output_type": "stream",
     "text": [
      "Multiple versions found, using /data/ame2/miniconda/envs/fipy/bin/python. If you wish to use a different version, please specify it explicitly\n",
      "Multiple versions found, using /data/ame2/miniconda/envs/fipy/bin/python. If you wish to use a different version, please specify it explicitly\n"
     ]
    }
   ],
   "source": [
    "%%bash\n",
    "\n",
    "smt configure --executable=python\n",
    "smt configure --labelgenerator=uuid\n",
    "smt configure --on-changed=store-diff\n",
    "smt configure --addlabel=parameters\n"
   ]
  },
  {
   "cell_type": "code",
   "execution_count": null,
   "metadata": {
    "collapsed": false
   },
   "outputs": [],
   "source": [
    "!mkdir Data"
   ]
  },
  {
   "cell_type": "code",
   "execution_count": null,
   "metadata": {
    "collapsed": false
   },
   "outputs": [],
   "source": [
    "!ls"
   ]
  },
  {
   "cell_type": "code",
   "execution_count": null,
   "metadata": {
    "collapsed": false
   },
   "outputs": [],
   "source": [
    "!smt run --main=elphf0226.py params.json"
   ]
  },
  {
   "cell_type": "code",
   "execution_count": null,
   "metadata": {
    "collapsed": false
   },
   "outputs": [],
   "source": [
    "for galvani in fp.numerix.linspace(0,0.5,2):\n",
    "    galvanistring=\"{0} V\".format(galvani)\n",
    "    !smt run --main=elphf0226.py params.json galvani_potential=\"$galvani V\""
   ]
  },
  {
   "cell_type": "code",
   "execution_count": null,
   "metadata": {
    "collapsed": false
   },
   "outputs": [],
   "source": [
    "for galvani in fp.numerix.linspace(0,0.5,100):\n",
    "    galvanistring=\"{0} V\".format(galvani)\n",
    "    !smt run --main=elphf0226.py params.json galvani_potential=\"$galvani V\" ncells=1200 concentration=\"0.25 mol/l\""
   ]
  },
  {
   "cell_type": "code",
   "execution_count": null,
   "metadata": {
    "collapsed": false,
    "scrolled": true
   },
   "outputs": [],
   "source": [
    "import json\n",
    "import pandas\n",
    "\n",
    "!smt export\n",
    "with open(\".smt/records_export.json\") as ff:\n",
    "    data = json.load(ff)\n",
    "    \n",
    "df = pandas.DataFrame(data)"
   ]
  },
  {
   "cell_type": "code",
   "execution_count": null,
   "metadata": {
    "collapsed": false
   },
   "outputs": [],
   "source": [
    "df[[\"label\",\"outcome\",\"parameters\"]]"
   ]
  },
  {
   "cell_type": "code",
   "execution_count": null,
   "metadata": {
    "collapsed": false
   },
   "outputs": [],
   "source": [
    "df.keys()"
   ]
  },
  {
   "cell_type": "code",
   "execution_count": null,
   "metadata": {
    "collapsed": false
   },
   "outputs": [],
   "source": [
    "!ls Data"
   ]
  },
  {
   "cell_type": "code",
   "execution_count": null,
   "metadata": {
    "collapsed": false
   },
   "outputs": [],
   "source": [
    "!ls Data/ce503af2e3b1/"
   ]
  },
  {
   "cell_type": "code",
   "execution_count": null,
   "metadata": {
    "collapsed": false
   },
   "outputs": [],
   "source": [
    "!cat Data/ce503af2e3b1/test.txt"
   ]
  },
  {
   "cell_type": "code",
   "execution_count": null,
   "metadata": {
    "collapsed": false,
    "scrolled": true
   },
   "outputs": [],
   "source": [
    "for r in df[[\"parameters\"]].iterrows():\n",
    "    print r[1][\"parameters\"]"
   ]
  },
  {
   "cell_type": "code",
   "execution_count": null,
   "metadata": {
    "collapsed": false
   },
   "outputs": [],
   "source": [
    "for galvani in fp.numerix.linspace(0,0.5,100):\n",
    "    galvanistring=\"{0} V\".format(galvani)\n",
    "    !smt run --main=elphf0226.py params.json galvani_potential=\"$galvani V\" ncells=1200 concentration=\"1.00 mol/l\""
   ]
  },
  {
   "cell_type": "code",
   "execution_count": null,
   "metadata": {
    "collapsed": false
   },
   "outputs": [],
   "source": [
    "for galvani in fp.numerix.linspace(0,0.5,100):\n",
    "    galvanistring=\"{0} V\".format(galvani)\n",
    "    !smt run --main=elphf0226.py params.json galvani_potential=\"$galvani V\" ncells=1200 concentration=\"0.01 mol/l\""
   ]
  },
  {
   "cell_type": "code",
   "execution_count": null,
   "metadata": {
    "collapsed": false
   },
   "outputs": [],
   "source": [
    "for galvani in fp.numerix.linspace(0,0.5,100):\n",
    "    galvanistring=\"{0} V\".format(galvani)\n",
    "    !smt run --main=elphf0226.py params.json galvani_potential=\"$galvani V\" ncells=1200 concentration=\"0.10 mol/l\""
   ]
  },
  {
   "cell_type": "code",
   "execution_count": null,
   "metadata": {
    "collapsed": false
   },
   "outputs": [],
   "source": [
    "for galvani in fp.numerix.linspace(0,0.5,100):\n",
    "    galvanistring=\"{0} V\".format(galvani)\n",
    "    !smt run --main=elphf0226.py params.json galvani_potential=\"$galvani V\" ncells=1200 concentration=\"10.0 mol/l\""
   ]
  },
  {
   "cell_type": "code",
   "execution_count": null,
   "metadata": {
    "collapsed": false
   },
   "outputs": [],
   "source": [
    "for galvani in fp.numerix.linspace(0,0.5,20):\n",
    "    galvanistring=\"{0} V\".format(galvani)\n",
    "    !smt run --main=elphf0226.py params.json galvani_potential=\"$galvani V\" ncells=800 concentration=\"0.25 mol/l\""
   ]
  },
  {
   "cell_type": "code",
   "execution_count": null,
   "metadata": {
    "collapsed": false
   },
   "outputs": [],
   "source": [
    "for galvani in fp.numerix.linspace(0,0.5,20):\n",
    "    galvanistring=\"{0} V\".format(galvani)\n",
    "    !smt run --main=elphf0226.py params.json galvani_potential=\"$galvani V\" ncells=600 concentration=\"0.25 mol/l\""
   ]
  },
  {
   "cell_type": "code",
   "execution_count": null,
   "metadata": {
    "collapsed": false
   },
   "outputs": [],
   "source": [
    "for galvani in fp.numerix.linspace(0,0.5,20):\n",
    "    galvanistring=\"{0} V\".format(galvani)\n",
    "    !smt run --main=elphf0226.py params.json galvani_potential=\"$galvani V\" ncells=300 concentration=\"0.25 mol/l\""
   ]
  },
  {
   "cell_type": "code",
   "execution_count": null,
   "metadata": {
    "collapsed": false
   },
   "outputs": [],
   "source": [
    "for galvani in fp.numerix.linspace(0,0.5,20):\n",
    "    galvanistring=\"{0} V\".format(galvani)\n",
    "    !smt run --main=elphf0226.py params.json galvani_potential=\"$galvani V\" ncells=120 concentration=\"0.25 mol/l\""
   ]
  },
  {
   "cell_type": "code",
   "execution_count": null,
   "metadata": {
    "collapsed": false
   },
   "outputs": [],
   "source": [
    "for galvani in fp.numerix.linspace(0,0.5,20):\n",
    "    galvanistring=\"{0} V\".format(galvani)\n",
    "    !smt run --main=elphf0226.py params.json galvani_potential=\"$galvani V\" ncells=12000 concentration=\"0.25 mol/l\""
   ]
  },
  {
   "cell_type": "code",
   "execution_count": null,
   "metadata": {
    "collapsed": false
   },
   "outputs": [],
   "source": [
    "import timeit"
   ]
  },
  {
   "cell_type": "code",
   "execution_count": null,
   "metadata": {
    "collapsed": false
   },
   "outputs": [
    {
     "name": "stdout",
     "output_type": "stream",
     "text": [
      "Multiple versions found, using /data/ame2/miniconda/envs/fipy/bin/python. If you wish to use a different version, please specify it explicitly\n",
      "L = 3.2 nm\n",
      "barrier 145.295286758\n",
      "$e^-$ 1.99957273847e-09 1.99999999308\n",
      "$M^+$ 0.0045 0.99999999673\n",
      "$A^-$ 0.00449999900021 1.87483286232e-10\n",
      "$N$ 0.991000001 3.08279723394e-09\n",
      "$m$ 1.000000002 2.99999999308\n",
      "deltaV -0.693132797286\n",
      "$e^-$ -20.7234651093 -20.7234651093\n",
      "$M^+$ -4.00837154399 -4.00837154399\n",
      "$A^-$ -6.78090295531 -6.78090295531\n",
      "dt 0.0732421875\n",
      "0.0 0.655212210675 -0.00471784553694\n",
      "0.0 0.543689759255 -0.00660166924017\n",
      "0.0 0.552850170925 -0.00719504322247\n",
      "0.0 0.540128215863 -0.0070729211874\n",
      "0.0 0.543682956284 -0.00712762262758\n",
      "0.0 0.542219556953 -0.00710820426324\n",
      "0.0 0.542758395425 -0.00711567157808\n",
      "0.0 0.542552244663 -0.00711285014152\n",
      "0.0 0.542600613786 -0.00711351483371\n",
      "Record label for this run: '0b6231452b1b'\n",
      "Data keys are [test.txt(4b78d72eea82d91984b96bd344cfaa5319ecad6e [2016-07-13 11:24:16]), output.tsv(b8b7b09909c51212de880f4056b85bc36755cefd [2016-07-13 11:24:25])]\n",
      "Multiple versions found, using /data/ame2/miniconda/envs/fipy/bin/python. If you wish to use a different version, please specify it explicitly\n",
      "L = 3.2 nm\n",
      "barrier 145.295286758\n",
      "$e^-$ 1.99957273847e-09 1.99999999308\n",
      "$M^+$ 0.0045 0.99999999673\n",
      "$A^-$ 0.00449999900021 1.87483286232e-10\n",
      "$N$ 0.991000001 3.08279723394e-09\n",
      "$m$ 1.000000002 2.99999999308\n",
      "deltaV -0.693132797286\n",
      "$e^-$ -20.5267919217 -20.5267919217\n",
      "$M^+$ -4.40171791917 -4.40171791917\n",
      "$A^-$ -6.38755658013 -6.38755658013\n",
      "dt 0.0732421875\n",
      "0.196673187591 0.658494473493 -0.0062592235093\n",
      "0.196673187591 0.543774020052 -0.00589699814914\n",
      "0.196673187591 0.550172748868 -0.00633259401733\n",
      "0.196673187591 0.542365544049 -0.00625692171961\n",
      "0.196673187591 0.544568163327 -0.00629122749939\n",
      "0.196673187591 0.543695527951 -0.0062794262353\n",
      "0.196673187591 0.544009484025 -0.00628385012319\n",
      "0.196673187591 0.54389317446 -0.00628223048824\n",
      "0.196673187591 0.543920172163 -0.00628260789459\n",
      "Record label for this run: 'e6aae2e67c87'\n",
      "Data keys are [test.txt(513437e8d89dc3dfe8742c79985749f30688f94c [2016-07-13 11:26:20]), output.tsv(519072adcd3fb49ec62a4f2524199fb1b7967bcf [2016-07-13 11:26:29])]\n",
      "Multiple versions found, using /data/ame2/miniconda/envs/fipy/bin/python. If you wish to use a different version, please specify it explicitly\n",
      "L = 3.2 nm\n",
      "barrier 145.295286758\n",
      "$e^-$ 1.99957273847e-09 1.99999999308\n",
      "$M^+$ 0.0045 0.99999999673\n",
      "$A^-$ 0.00449999900021 1.87483286232e-10\n",
      "$N$ 0.991000001 3.08279723394e-09\n",
      "$m$ 1.000000002 2.99999999308\n",
      "deltaV -0.693132797286\n",
      "$e^-$ -20.3301187341 -20.3301187341\n",
      "$M^+$ -4.79506429435 -4.79506429435\n",
      "$A^-$ -5.99421020495 -5.99421020495\n",
      "dt 0.0732421875\n",
      "0.393346375182 0.665788534744 -0.00431890027642\n",
      "0.393346375182 0.549057084887 -0.00526282121917\n",
      "0.393346375182 0.547012059812 -0.00543334329729\n",
      "0.393346375182 0.54472574268 -0.00541949506887\n",
      "0.393346375182 0.545234472159 -0.00542873381197\n",
      "0.393346375182 0.54502150512 -0.00542589912589\n",
      "0.393346375182 0.545093506287 -0.00542695123874\n",
      "0.393346375182 0.545067577347 -0.00542658298208\n",
      "0.393346375182 0.545073480659 -0.00542666768584\n",
      "Record label for this run: 'e5827e15e6f7'\n",
      "Data keys are [test.txt(3942caf7cb2b78f08f3671cd0753c6990fb5ea39 [2016-07-13 11:29:12]), output.tsv(b6a39795f3ab5153fc99b6a92a65058063a0a79b [2016-07-13 11:29:20])]\n",
      "Multiple versions found, using /data/ame2/miniconda/envs/fipy/bin/python. If you wish to use a different version, please specify it explicitly\n",
      "L = 3.2 nm\n",
      "barrier 145.295286758\n",
      "$e^-$ 1.99957273847e-09 1.99999999308\n",
      "$M^+$ 0.0045 0.99999999673\n",
      "$A^-$ 0.00449999900021 1.87483286232e-10\n",
      "$N$ 0.991000001 3.08279723394e-09\n",
      "$m$ 1.000000002 2.99999999308\n",
      "deltaV -0.693132797286\n",
      "$e^-$ -20.1334455465 -20.1334455465\n",
      "$M^+$ -5.18841066954 -5.18841066954\n",
      "$A^-$ -5.60086382977 -5.60086382976\n",
      "dt 0.0732421875\n",
      "0.590019562772 0.666541340233 -0.0034972711298\n",
      "0.590019562772 0.549648918339 -0.00438145926868\n",
      "0.590019562772 0.547915178232 -0.00454834131125\n",
      "0.590019562772 0.545719369994 -0.00453369321422\n",
      "0.590019562772 0.546197917915 -0.00454250440266\n",
      "0.590019562772 0.546007048664 -0.00453988352264\n",
      "0.590019562772 0.546069108392 -0.0045408146599\n",
      "0.590019562772 0.546047666639 -0.00454050158242\n",
      "0.590019562772 0.546052456976 -0.0045405722147\n",
      "Record label for this run: 'ae32de0b35ee'\n",
      "Data keys are [test.txt(e6c63f09450347b7519e9831b6f79654540c15df [2016-07-13 11:31:25]), output.tsv(0c2afdeca7af69d6abe224fb4efc97bd5da11194 [2016-07-13 11:31:34])]\n",
      "Multiple versions found, using /data/ame2/miniconda/envs/fipy/bin/python. If you wish to use a different version, please specify it explicitly\n",
      "L = 3.2 nm\n",
      "barrier 145.295286758\n",
      "$e^-$ 1.99957273847e-09 1.99999999308\n",
      "$M^+$ 0.0045 0.99999999673\n",
      "$A^-$ 0.00449999900021 1.87483286232e-10\n",
      "$N$ 0.991000001 3.08279723394e-09\n",
      "$m$ 1.000000002 2.99999999308\n",
      "deltaV -0.693132797286\n",
      "$e^-$ -19.9367723589 -19.9367723589\n",
      "$M^+$ -5.58175704472 -5.58175704472\n",
      "$A^-$ -5.20751745458 -5.20751745458\n",
      "dt 0.0732421875\n",
      "0.786692750363 0.667168047991 -0.00264078511295\n",
      "0.786692750363 0.550140138102 -0.00346670703764\n",
      "0.786692750363 0.548609932425 -0.00362873225781\n",
      "0.786692750363 0.546545878676 -0.00361395228885\n",
      "0.786692750363 0.546981458581 -0.00362214034859\n",
      "0.786692750363 0.546815545411 -0.00361979271349\n",
      "0.786692750363 0.54686727082 -0.00362059066303\n",
      "0.786692750363 0.546850149413 -0.00362033350144\n",
      "0.786692750363 0.546853893969 -0.00362039028317\n",
      "Record label for this run: 'a1ed695d5ae1'\n",
      "Data keys are [test.txt(e4e990376ddaf2c112d8b76dc080b2b237fd55d8 [2016-07-13 11:33:41]), output.tsv(fa155d12877bf84de951101428b414942ed5a574 [2016-07-13 11:33:50])]\n",
      "Multiple versions found, using /data/ame2/miniconda/envs/fipy/bin/python. If you wish to use a different version, please specify it explicitly\n",
      "L = 3.2 nm\n",
      "barrier 145.295286758\n",
      "$e^-$ 1.99957273847e-09 1.99999999308\n",
      "$M^+$ 0.0045 0.99999999673\n",
      "$A^-$ 0.00449999900021 1.87483286232e-10\n",
      "$N$ 0.991000001 3.08279723394e-09\n",
      "$m$ 1.000000002 2.99999999308\n",
      "deltaV -0.693132797286\n",
      "$e^-$ -19.7400991713 -19.7400991713\n",
      "$M^+$ -5.9751034199 -5.9751034199\n",
      "$A^-$ -4.8141710794 -4.8141710794\n",
      "dt 0.0732421875\n",
      "0.983365937954 0.667661409561 -0.00174444671908\n",
      "0.983365937954 0.550465592761 -0.0025150148159\n",
      "0.983365937954 0.549110661715 -0.00267198738969\n",
      "0.983365937954 0.547190189609 -0.0026574158111\n",
      "0.983365937954 0.547581024445 -0.00266491869462\n",
      "0.983365937954 0.547438949706 -0.00266285184106\n",
      "0.983365937954 0.547481343369 -0.00266352320169\n",
      "0.983365937954 0.547467919937 -0.00266331618107\n",
      "0.983365937954 0.547470787563 -0.00266336081387\n",
      "Record label for this run: '13afe2b9222c'\n",
      "Data keys are [test.txt(9d24b17a858f98c6a342265373277ab7bb877ea2 [2016-07-13 11:36:26]), output.tsv(b3b612faa55444f126461a9e70a64e0018e98043 [2016-07-13 11:36:35])]\n",
      "Multiple versions found, using /data/ame2/miniconda/envs/fipy/bin/python. If you wish to use a different version, please specify it explicitly\n",
      "L = 3.2 nm\n",
      "barrier 145.295286758\n",
      "$e^-$ 1.99957273847e-09 1.99999999308\n",
      "$M^+$ 0.0045 0.99999999673\n",
      "$A^-$ 0.00449999900021 1.87483286232e-10\n",
      "$N$ 0.991000001 3.08279723394e-09\n",
      "$m$ 1.000000002 2.99999999308\n",
      "deltaV -0.693132797286\n",
      "$e^-$ -19.5434259837 -19.5434259837\n",
      "$M^+$ -6.36844979508 -6.36844979508\n",
      "$A^-$ -4.42082470422 -4.42082470422\n",
      "dt 0.0732421875\n",
      "1.18003912554 0.668010511175 -0.000804654948422\n",
      "1.18003912554 0.55059878897 -0.00152461295409\n",
      "1.18003912554 0.54942239116 -0.00167671443017\n",
      "1.18003912554 0.547640869852 -0.00166250340748\n",
      "1.18003912554 0.547990511331 -0.00166933183665\n",
      "1.18003912554 0.547869458723 -0.00166752828927\n",
      "1.18003912554 0.547903991395 -0.0016680874979\n",
      "1.18003912554 0.547893546641 -0.00166792271752\n",
      "1.18003912554 0.547895721685 -0.00166795735459\n",
      "Record label for this run: 'b9a1f191eb11'\n",
      "Data keys are [test.txt(781d7d07c81130ac430f6b091b41dcd09d611c59 [2016-07-13 11:38:36]), output.tsv(94a82087d519ac6fb15254fda2cc3cc28f07f528 [2016-07-13 11:38:45])]\n",
      "Multiple versions found, using /data/ame2/miniconda/envs/fipy/bin/python. If you wish to use a different version, please specify it explicitly\n"
     ]
    }
   ],
   "source": [
    "for galvani in fp.numerix.linspace(0,0.5,100):\n",
    "    galvanistring=\"{0} V\".format(galvani)\n",
    "    !smt run --main=elphf0237.py params.json galvani_potential=\"$galvani V\" ncells=1200 concentration=\"0.25 mol/l\" --tag\"0237\" "
   ]
  },
  {
   "cell_type": "code",
   "execution_count": null,
   "metadata": {
    "collapsed": true
   },
   "outputs": [],
   "source": [
    "for galvani in fp.numerix.linspace(0,0.5,100):\n",
    "    galvanistring=\"{0} V\".format(galvani)\n",
    "    !smt run --main=elphf0237.py params.json galvani_potential=\"$galvani V\" ncells=1200 concentration=\"1.00 mol/l\" --tag\"0237\""
   ]
  },
  {
   "cell_type": "code",
   "execution_count": null,
   "metadata": {
    "collapsed": true
   },
   "outputs": [],
   "source": [
    "for galvani in fp.numerix.linspace(0,0.5,100):\n",
    "    galvanistring=\"{0} V\".format(galvani)\n",
    "    !smt run --main=elphf0238.py params.json galvani_potential=\"$galvani V\" ncells=1200 concentration=\"0.25 mol/l\" --tag\"0238\""
   ]
  },
  {
   "cell_type": "code",
   "execution_count": null,
   "metadata": {
    "collapsed": true
   },
   "outputs": [],
   "source": [
    "for galvani in fp.numerix.linspace(0,0.5,100):\n",
    "    galvanistring=\"{0} V\".format(galvani)\n",
    "    !smt run --main=elphf0238.py params.json galvani_potential=\"$galvani V\" ncells=1200 concentration=\"1.00 mol/l\" --tag\"0238\""
   ]
  },
  {
   "cell_type": "code",
   "execution_count": null,
   "metadata": {
    "collapsed": true
   },
   "outputs": [],
   "source": [
    "for galvani in fp.numerix.linspace(0,0.5,100):\n",
    "    galvanistring=\"{0} V\".format(galvani)\n",
    "    !smt run --main=elphf0239.py params.json galvani_potential=\"$galvani V\" ncells=1200 concentration=\"0.25 mol/l\" --tag\"0239\""
   ]
  },
  {
   "cell_type": "code",
   "execution_count": null,
   "metadata": {
    "collapsed": true
   },
   "outputs": [],
   "source": [
    "for galvani in fp.numerix.linspace(0,0.5,100):\n",
    "    galvanistring=\"{0} V\".format(galvani)\n",
    "    !smt run --main=elphf0239.py params.json galvani_potential=\"$galvani V\" ncells=1200 concentration=\"1.00 mol/l\" --tag\"0239\""
   ]
  },
  {
   "cell_type": "code",
   "execution_count": null,
   "metadata": {
    "collapsed": true
   },
   "outputs": [],
   "source": [
    "for galvani in fp.numerix.linspace(0,0.5,100):\n",
    "    galvanistring=\"{0} V\".format(galvani)\n",
    "    !smt run --main=elphf0240.py params.json galvani_potential=\"$galvani V\" ncells=1200 concentration=\"0.25 mol/l\" --tag\"0240\""
   ]
  },
  {
   "cell_type": "code",
   "execution_count": null,
   "metadata": {
    "collapsed": true
   },
   "outputs": [],
   "source": [
    "for galvani in fp.numerix.linspace(0,0.5,100):\n",
    "    galvanistring=\"{0} V\".format(galvani)\n",
    "    !smt run --main=elphf0240.py params.json galvani_potential=\"$galvani V\" ncells=1200 concentration=\"1.00 mol/l\" --tag\"0240\""
   ]
  },
  {
   "cell_type": "code",
   "execution_count": null,
   "metadata": {
    "collapsed": true
   },
   "outputs": [],
   "source": []
  }
 ],
 "metadata": {
  "kernelspec": {
   "display_name": "Python 2",
   "language": "python",
   "name": "python2"
  },
  "language_info": {
   "codemirror_mode": {
    "name": "ipython",
    "version": 2
   },
   "file_extension": ".py",
   "mimetype": "text/x-python",
   "name": "python",
   "nbconvert_exporter": "python",
   "pygments_lexer": "ipython2",
   "version": "2.7.12"
  }
 },
 "nbformat": 4,
 "nbformat_minor": 0
}
