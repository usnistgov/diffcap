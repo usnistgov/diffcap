{
 "cells": [
  {
   "cell_type": "code",
   "execution_count": 1,
   "metadata": {
    "collapsed": true
   },
   "outputs": [],
   "source": [
    "%matplotlib inline"
   ]
  },
  {
   "cell_type": "markdown",
   "metadata": {},
   "source": [
    "# Calculate electrochemical equilbria"
   ]
  },
  {
   "cell_type": "code",
   "execution_count": 12,
   "metadata": {
    "collapsed": true
   },
   "outputs": [],
   "source": [
    "from scipy import optimize\n",
    "\n",
    "import fipy as fp"
   ]
  },
  {
   "cell_type": "code",
   "execution_count": 8,
   "metadata": {
    "collapsed": true
   },
   "outputs": [],
   "source": [
    "Vs = fp.Variable(\"0.018 l/mol\")\n",
    "R = fp.Variable(\"1 Nav * kB\")\n",
    "T = fp.Variable(\"298 K\")\n",
    "Faraday = fp.Variable(\"1 Nav * e\")"
   ]
  },
  {
   "cell_type": "markdown",
   "metadata": {},
   "source": [
    "simple mesh that only has a cell for electrode and a cell for the electrolyte"
   ]
  },
  {
   "cell_type": "code",
   "execution_count": 7,
   "metadata": {
    "collapsed": true
   },
   "outputs": [],
   "source": [
    "mesh = fp.Grid1D(nx=2)"
   ]
  },
  {
   "cell_type": "code",
   "execution_count": 30,
   "metadata": {
    "collapsed": true
   },
   "outputs": [],
   "source": [
    "def solid(X, interstitials, substitutionals, solvent):\n",
    "    \"\"\"solve for electron and cation concentration, given impurity anion and solvent\n",
    "    \"\"\"\n",
    "    components = interstitials + substitutionals + [solvent]\n",
    "\n",
    "    subs = 1. - X[0] - X[1]\n",
    "    for Xj in components:\n",
    "        subs -= Xj[0].value\n",
    "        \n",
    "    charge = 0. + X[0] * interstitials[0].z + X[1] * substitutionals[0].z\n",
    "    for Xj in components:\n",
    "        charge += Xj.z * Xj[0].value\n",
    "\n",
    "    return [subs, charge]"
   ]
  },
  {
   "cell_type": "code",
   "execution_count": 71,
   "metadata": {
    "collapsed": true
   },
   "outputs": [],
   "source": [
    "def liquid(X, interstitials, substitutionals, solvent):\n",
    "    \"\"\"solve for solvent and anion concentration, given cation and impurity electron\n",
    "    \"\"\"\n",
    "    components = interstitials + substitutionals + [solvent]\n",
    "\n",
    "    subs = 1. - X[0] - X[1]\n",
    "    for Xj in components:\n",
    "        subs -= Xj[1].value\n",
    "        \n",
    "    charge = 0. + X[0] * solvent.z + X[1] * substitutionals[1].z\n",
    "    for Xj in components:\n",
    "        charge += Xj.z * Xj[1].value\n",
    "\n",
    "    return [subs, charge]"
   ]
  },
  {
   "cell_type": "markdown",
   "metadata": {},
   "source": [
    "## monovalent cation and salt"
   ]
  },
  {
   "cell_type": "markdown",
   "metadata": {},
   "source": [
    "## $X_\\mathrm{impurity} = 10^{-6}$"
   ]
  },
  {
   "cell_type": "code",
   "execution_count": 90,
   "metadata": {
    "collapsed": true
   },
   "outputs": [],
   "source": [
    "impurity = 1e-6\n",
    "\n",
    "interstitials = [\n",
    "    fp.CellVariable(mesh=mesh, name=\"$e^-$\", value=[0., impurity])\n",
    "]\n",
    "\n",
    "substitutionals = [\n",
    "    fp.CellVariable(mesh=mesh, name=\"$M^+$\", value=[0., (Vs * \"1 mol/l\").inBaseUnits()]),\n",
    "    fp.CellVariable(mesh=mesh, name=\"$A^-$\", value=[impurity, 0])\n",
    "]\n",
    "\n",
    "N = fp.CellVariable(mesh=mesh, name=\"$N$\", value=[impurity, 0.])\n",
    "\n",
    "interstitials[0].z   = -1\n",
    "substitutionals[0].z = +1\n",
    "substitutionals[1].z = -1\n",
    "N.z                  = 0\n",
    "\n",
    "components = interstitials + substitutionals + [N]"
   ]
  },
  {
   "cell_type": "code",
   "execution_count": 91,
   "metadata": {
    "collapsed": false
   },
   "outputs": [
    {
     "name": "stdout",
     "output_type": "stream",
     "text": [
      "-13.1223603774 $e^-$ [  4.99998500e-01   1.00000000e-06]\n",
      "-3.32423534053 $M^+$ [ 0.4999995  0.018    ]\n",
      "9.79807147978 $A^-$ [  1.00000000e-06   1.79990000e-02]\n",
      "13.7788465736 $N$ [  1.00000000e-06   9.64000000e-01]\n"
     ]
    }
   ],
   "source": [
    "interstitials[0][0] = 0.\n",
    "substitutionals[0][0] = 0.\n",
    "X0 = [1., .5]\n",
    "X0 = optimize.fsolve(solid, X0, xtol=1e-12, \n",
    "                     args=(interstitials, substitutionals, N))\n",
    "\n",
    "interstitials[0][0] = X0[0]\n",
    "substitutionals[0][0] = X0[1]\n",
    "\n",
    "\n",
    "N[1] = 0.\n",
    "substitutionals[1][1] = 0.\n",
    "X0 = [1., 1.]\n",
    "X0 = optimize.fsolve(liquid, X0, xtol=1e-12, \n",
    "                     args=(interstitials, substitutionals, N))\n",
    "\n",
    "N[1] = X0[0]\n",
    "substitutionals[1][1] = X0[1]\n",
    "\n",
    "for Xj in components:\n",
    "    Xj.muSL = fp.numerix.log(Xj[1] / Xj[0])\n",
    "    print Xj.muSL, Xj.name, Xj"
   ]
  },
  {
   "cell_type": "markdown",
   "metadata": {},
   "source": [
    "## $X_\\mathrm{impurity} = 10^{-9}$"
   ]
  },
  {
   "cell_type": "code",
   "execution_count": 92,
   "metadata": {
    "collapsed": true
   },
   "outputs": [],
   "source": [
    "impurity = 1e-9\n",
    "\n",
    "interstitials = [\n",
    "    fp.CellVariable(mesh=mesh, name=\"$e^-$\", value=[0., impurity])\n",
    "]\n",
    "\n",
    "substitutionals = [\n",
    "    fp.CellVariable(mesh=mesh, name=\"$M^+$\", value=[0., (Vs * \"1 mol/l\").inBaseUnits()]),\n",
    "    fp.CellVariable(mesh=mesh, name=\"$A^-$\", value=[impurity, 0])\n",
    "]\n",
    "\n",
    "N = fp.CellVariable(mesh=mesh, name=\"$N$\", value=[impurity, 0.])\n",
    "\n",
    "interstitials[0].z   = -1\n",
    "substitutionals[0].z = +1\n",
    "substitutionals[1].z = -1\n",
    "N.z                  = 0\n",
    "\n",
    "components = interstitials + substitutionals + [N]"
   ]
  },
  {
   "cell_type": "code",
   "execution_count": 93,
   "metadata": {
    "collapsed": false
   },
   "outputs": [
    {
     "name": "stdout",
     "output_type": "stream",
     "text": [
      "-20.0301186534 $e^-$ [  4.99999998e-01   1.00000000e-09]\n",
      "-3.32423633953 $M^+$ [ 0.5    0.018]\n",
      "16.7058822603 $A^-$ [  1.00000000e-09   1.79999990e-02]\n",
      "20.6866018526 $N$ [  1.00000000e-09   9.64000000e-01]\n"
     ]
    }
   ],
   "source": [
    "interstitials[0][0] = 0.\n",
    "substitutionals[0][0] = 0.\n",
    "X0 = [1., .5]\n",
    "X0 = optimize.fsolve(solid, X0, xtol=1e-12, \n",
    "                     args=(interstitials, substitutionals, N))\n",
    "\n",
    "interstitials[0][0] = X0[0]\n",
    "substitutionals[0][0] = X0[1]\n",
    "\n",
    "\n",
    "N[1] = 0.\n",
    "substitutionals[1][1] = 0.\n",
    "X0 = [1., 1.]\n",
    "X0 = optimize.fsolve(liquid, X0, xtol=1e-12, \n",
    "                     args=(interstitials, substitutionals, N))\n",
    "\n",
    "N[1] = X0[0]\n",
    "substitutionals[1][1] = X0[1]\n",
    "\n",
    "for Xj in components:\n",
    "    Xj.muSL = fp.numerix.log(Xj[1] / Xj[0])\n",
    "    print Xj.muSL, Xj.name, Xj"
   ]
  },
  {
   "cell_type": "code",
   "execution_count": null,
   "metadata": {
    "collapsed": true
   },
   "outputs": [],
   "source": []
  },
  {
   "cell_type": "code",
   "execution_count": null,
   "metadata": {
    "collapsed": true
   },
   "outputs": [],
   "source": [
    "def equilibrium(Y, interstitials, substitutionals, solvent, YM):\n",
    "    components = interstitials + substitutionals + [solvent]\n",
    "    N = len(components)\n",
    "    I = len(interstitials)\n",
    "    \n",
    "    YmL = 1.\n",
    "    YmS = 1.\n",
    "    for j, Yj in enumerate(interstitials):\n",
    "        YmL += Y[j]\n",
    "        YmS += Y[j + N]\n",
    "        \n",
    "    sumL = 1.\n",
    "    sumS = 1.\n",
    "    for j, Yj in enumerate(substitutionals + [solvent]):\n",
    "        sumL -= Y[I + j]\n",
    "        sumS -= Y[I + j + N]\n",
    "    \n",
    "    out = [Y[1] - YM]\n",
    "    \n",
    "    chargeL = 0.\n",
    "    chargeS = 0.\n",
    "    for j, Yj in enumerate(components):\n",
    "        out.append(fp.numerix.exp(Yj.muSL + Yj.z * Y[2*N]) * Y[j + N] / YmS - Y[j] / YmL)\n",
    "        chargeL += Yj.z * Y[j]\n",
    "        chargeS += Yj.z * Y[j + N]\n",
    "    \n",
    "    out += [sumL, sumS, chargeL, chargeS]\n",
    "    \n",
    "    return out\n",
    "\n",
    "components = interstitials + substitutionals + [N]\n",
    "\n",
    "YM = (Vs * str(params[\"concentration\"])).inBaseUnits()\n",
    "Y0 = [3e-6, YM, YM, 1, 2, 1, 3e-6, 3e-6, 0]\n",
    "Y0 = optimize.fsolve(equilibrium, Y0, xtol=1e-12, \n",
    "                     args=(interstitials, substitutionals, N, YM))"
   ]
  }
 ],
 "metadata": {
  "kernelspec": {
   "display_name": "Python 2",
   "language": "python",
   "name": "python2"
  },
  "language_info": {
   "codemirror_mode": {
    "name": "ipython",
    "version": 2
   },
   "file_extension": ".py",
   "mimetype": "text/x-python",
   "name": "python",
   "nbconvert_exporter": "python",
   "pygments_lexer": "ipython2",
   "version": "2.7.11"
  }
 },
 "nbformat": 4,
 "nbformat_minor": 0
}
