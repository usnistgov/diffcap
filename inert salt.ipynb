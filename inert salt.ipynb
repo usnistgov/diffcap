{
 "cells": [
  {
   "cell_type": "code",
   "execution_count": 2,
   "metadata": {
    "collapsed": true
   },
   "outputs": [],
   "source": [
    "%matplotlib inline"
   ]
  },
  {
   "cell_type": "markdown",
   "metadata": {},
   "source": [
    "# Calculate electrochemical equilbria"
   ]
  },
  {
   "cell_type": "code",
   "execution_count": 3,
   "metadata": {
    "collapsed": true
   },
   "outputs": [],
   "source": [
    "from scipy import optimize\n",
    "\n",
    "import fipy as fp"
   ]
  },
  {
   "cell_type": "code",
   "execution_count": 4,
   "metadata": {
    "collapsed": true
   },
   "outputs": [],
   "source": [
    "Vs = fp.Variable(\"0.018 l/mol\")\n",
    "R = fp.Variable(\"1 Nav * kB\")\n",
    "T = fp.Variable(\"298 K\")\n",
    "Faraday = fp.Variable(\"1 Nav * e\")"
   ]
  },
  {
   "cell_type": "markdown",
   "metadata": {},
   "source": [
    "simple mesh that only has a cell for electrode and a cell for the electrolyte"
   ]
  },
  {
   "cell_type": "code",
   "execution_count": 5,
   "metadata": {
    "collapsed": true
   },
   "outputs": [],
   "source": [
    "mesh = fp.Grid1D(nx=2)"
   ]
  },
  {
   "cell_type": "code",
   "execution_count": 6,
   "metadata": {
    "collapsed": true
   },
   "outputs": [],
   "source": [
    "def solid(X, interstitials, substitutionals, solvent):\n",
    "    \"\"\"solve for electron and cation concentration, given impurity salt and solvent\n",
    "    \"\"\"\n",
    "    components = interstitials + substitutionals + [solvent]\n",
    "\n",
    "    subs = 1. - X[0] - X[1]\n",
    "    for Xj in components:\n",
    "        subs -= Xj[0].value\n",
    "        \n",
    "    charge = 0. + X[0] * interstitials[0].z + X[1] * substitutionals[0].z\n",
    "    for Xj in components:\n",
    "        charge += Xj.z * Xj[0].value\n",
    "\n",
    "    return [subs, charge]"
   ]
  },
  {
   "cell_type": "code",
   "execution_count": 7,
   "metadata": {
    "collapsed": true
   },
   "outputs": [],
   "source": [
    "def liquid(X, interstitials, substitutionals, solvent):\n",
    "    \"\"\"solve for solvent and anion concentration, given cation(s) and impurity electron\n",
    "    \"\"\"\n",
    "    components = interstitials + substitutionals + [solvent]\n",
    "\n",
    "    subs = 1. - X[0] - X[1]\n",
    "    for Xj in components:\n",
    "        subs -= Xj[1].value\n",
    "        \n",
    "    charge = 0. + X[0] * solvent.z + X[1] * substitutionals[1].z\n",
    "    for Xj in components:\n",
    "        charge += Xj.z * Xj[1].value\n",
    "\n",
    "    return [subs, charge]"
   ]
  },
  {
   "cell_type": "markdown",
   "metadata": {},
   "source": [
    "## monovalent cation and salt"
   ]
  },
  {
   "cell_type": "markdown",
   "metadata": {},
   "source": [
    "### $X_\\mathrm{impurity} = 10^{-6}$"
   ]
  },
  {
   "cell_type": "code",
   "execution_count": 9,
   "metadata": {
    "collapsed": false
   },
   "outputs": [],
   "source": [
    "impurity = 1e-6\n",
    "\n",
    "interstitials = [\n",
    "    fp.CellVariable(mesh=mesh, name=\"$e^-$\", value=[0., impurity])\n",
    "]\n",
    "\n",
    "substitutionals = [\n",
    "    fp.CellVariable(mesh=mesh, name=\"$M^+$\", value=[0., impurity]),\n",
    "    fp.CellVariable(mesh=mesh, name=\"$A^-$\", value=[impurity, 0]),\n",
    "    fp.CellVariable(mesh=mesh, name=\"$B^+$\", value=[impurity, (Vs * \"1 mol/l\").inBaseUnits()])\n",
    "]\n",
    "\n",
    "N = fp.CellVariable(mesh=mesh, name=\"$N$\", value=[impurity, 0.])\n",
    "\n",
    "interstitials[0].z   = -1\n",
    "substitutionals[0].z = +1\n",
    "substitutionals[1].z = -1\n",
    "substitutionals[2].z = +1\n",
    "N.z                  = 0\n",
    "\n",
    "components = interstitials + substitutionals + [N]"
   ]
  },
  {
   "cell_type": "code",
   "execution_count": 11,
   "metadata": {
    "collapsed": false
   },
   "outputs": [
    {
     "name": "stdout",
     "output_type": "stream",
     "text": [
      "-13.1223603774 $e^-$ [  4.99998500e-01   1.00000000e-06]\n",
      "-13.1223603774 $M^+$ [  4.99998500e-01   1.00000000e-06]\n",
      "9.79812703688 $A^-$ [  1.00000000e-06   1.80000000e-02]\n",
      "9.79812703688 $B^+$ [  1.00000000e-06   1.80000000e-02]\n",
      "13.7788444989 $N$ [  1.00000000e-06   9.63998000e-01]\n",
      "[ -2.47549614e-17  -1.11022302e-16]\n",
      "[ 0.  0.]\n"
     ]
    }
   ],
   "source": [
    "interstitials[0][0] = 0.\n",
    "substitutionals[0][0] = 0.\n",
    "X0 = [1., .5]\n",
    "X0 = optimize.fsolve(solid, X0, xtol=1e-12, \n",
    "                     args=(interstitials, substitutionals, N))\n",
    "\n",
    "interstitials[0][0] = X0[0]\n",
    "substitutionals[0][0] = X0[1]\n",
    "\n",
    "\n",
    "N[1] = 0.\n",
    "substitutionals[1][1] = 0.\n",
    "X0 = [1., 1.]\n",
    "X0 = optimize.fsolve(liquid, X0, xtol=1e-12, \n",
    "                     args=(interstitials, substitutionals, N))\n",
    "\n",
    "N[1] = X0[0]\n",
    "substitutionals[1][1] = X0[1]\n",
    "\n",
    "frac = 1.\n",
    "charge = 0.\n",
    "for Xj in components:\n",
    "    Xj.muSL = fp.numerix.log(Xj[1] / Xj[0])\n",
    "    print Xj.muSL, Xj.name, Xj\n",
    "    frac -= Xj\n",
    "    charge += Xj * Xj.z\n",
    "print frac\n",
    "print charge"
   ]
  },
  {
   "cell_type": "markdown",
   "metadata": {},
   "source": [
    "## $X_\\mathrm{impurity} = 10^{-9}$"
   ]
  },
  {
   "cell_type": "code",
   "execution_count": 12,
   "metadata": {
    "collapsed": false
   },
   "outputs": [],
   "source": [
    "impurity = 1e-9\n",
    "\n",
    "interstitials = [\n",
    "    fp.CellVariable(mesh=mesh, name=\"$e^-$\", value=[0., impurity])\n",
    "]\n",
    "\n",
    "substitutionals = [\n",
    "    fp.CellVariable(mesh=mesh, name=\"$M^+$\", value=[0., impurity]),\n",
    "    fp.CellVariable(mesh=mesh, name=\"$A^-$\", value=[impurity, 0]),\n",
    "    fp.CellVariable(mesh=mesh, name=\"$B^+$\", value=[impurity, (Vs * \"1 mol/l\").inBaseUnits()])\n",
    "]\n",
    "\n",
    "N = fp.CellVariable(mesh=mesh, name=\"$N$\", value=[impurity, 0.])\n",
    "\n",
    "interstitials[0].z   = -1\n",
    "substitutionals[0].z = +1\n",
    "substitutionals[1].z = -1\n",
    "substitutionals[2].z = +1\n",
    "N.z                  = 0\n",
    "\n",
    "components = interstitials + substitutionals + [N]"
   ]
  },
  {
   "cell_type": "code",
   "execution_count": 13,
   "metadata": {
    "collapsed": false
   },
   "outputs": [
    {
     "name": "stdout",
     "output_type": "stream",
     "text": [
      "-20.0301186534 $e^-$ [  4.99999998e-01   1.00000000e-09]\n",
      "-20.0301186534 $M^+$ [  4.99999998e-01   1.00000000e-09]\n",
      "16.7058823159 $A^-$ [  1.00000000e-09   1.80000000e-02]\n",
      "16.7058823159 $B^+$ [  1.00000000e-09   1.80000000e-02]\n",
      "20.6866018505 $N$ [  1.00000000e-09   9.63999998e-01]\n",
      "[  2.61765081e-17   0.00000000e+00]\n",
      "[ 0.  0.]\n"
     ]
    }
   ],
   "source": [
    "interstitials[0][0] = 0.\n",
    "substitutionals[0][0] = 0.\n",
    "X0 = [1., .5]\n",
    "X0 = optimize.fsolve(solid, X0, xtol=1e-12, \n",
    "                     args=(interstitials, substitutionals, N))\n",
    "\n",
    "interstitials[0][0] = X0[0]\n",
    "substitutionals[0][0] = X0[1]\n",
    "\n",
    "\n",
    "N[1] = 0.\n",
    "substitutionals[1][1] = 0.\n",
    "X0 = [1., 1.]\n",
    "X0 = optimize.fsolve(liquid, X0, xtol=1e-12, \n",
    "                     args=(interstitials, substitutionals, N))\n",
    "\n",
    "N[1] = X0[0]\n",
    "substitutionals[1][1] = X0[1]\n",
    "\n",
    "frac = 1.\n",
    "charge = 0.\n",
    "for Xj in components:\n",
    "    Xj.muSL = fp.numerix.log(Xj[1] / Xj[0])\n",
    "    print Xj.muSL, Xj.name, Xj\n",
    "    frac -= Xj\n",
    "    charge += Xj * Xj.z\n",
    "print frac\n",
    "print charge"
   ]
  },
  {
   "cell_type": "markdown",
   "metadata": {},
   "source": [
    "## $X_\\mathrm{impurity} = 10^{-18}$"
   ]
  },
  {
   "cell_type": "code",
   "execution_count": 14,
   "metadata": {
    "collapsed": false
   },
   "outputs": [],
   "source": [
    "impurity = 1e-18\n",
    "\n",
    "interstitials = [\n",
    "    fp.CellVariable(mesh=mesh, name=\"$e^-$\", value=[0., impurity])\n",
    "]\n",
    "\n",
    "substitutionals = [\n",
    "    fp.CellVariable(mesh=mesh, name=\"$M^+$\", value=[0., impurity]),\n",
    "    fp.CellVariable(mesh=mesh, name=\"$A^-$\", value=[impurity, 0]),\n",
    "    fp.CellVariable(mesh=mesh, name=\"$B^+$\", value=[impurity, (Vs * \"1 mol/l\").inBaseUnits()])\n",
    "]\n",
    "\n",
    "N = fp.CellVariable(mesh=mesh, name=\"$N$\", value=[impurity, 0.])\n",
    "\n",
    "interstitials[0].z   = -1\n",
    "substitutionals[0].z = +1\n",
    "substitutionals[1].z = -1\n",
    "substitutionals[2].z = +1\n",
    "N.z                  = 0\n",
    "\n",
    "components = interstitials + substitutionals + [N]"
   ]
  },
  {
   "cell_type": "code",
   "execution_count": 15,
   "metadata": {
    "collapsed": false
   },
   "outputs": [
    {
     "name": "stdout",
     "output_type": "stream",
     "text": [
      "-40.7533844933 $e^-$ [  5.00000000e-01   1.00000000e-18]\n",
      "-40.7533844933 $M^+$ [  5.00000000e-01   1.00000000e-18]\n",
      "37.4291481528 $A^-$ [  1.00000000e-18   1.80000000e-02]\n",
      "37.4291481528 $B^+$ [  1.00000000e-18   1.80000000e-02]\n",
      "41.4098676895 $N$ [  1.00000000e-18   9.64000000e-01]\n",
      "[ -3.00000000e-18   0.00000000e+00]\n",
      "[ 0.  0.]\n"
     ]
    }
   ],
   "source": [
    "interstitials[0][0] = 0.\n",
    "substitutionals[0][0] = 0.\n",
    "X0 = [1., .5]\n",
    "X0 = optimize.fsolve(solid, X0, xtol=1e-12, \n",
    "                     args=(interstitials, substitutionals, N))\n",
    "\n",
    "interstitials[0][0] = X0[0]\n",
    "substitutionals[0][0] = X0[1]\n",
    "\n",
    "\n",
    "N[1] = 0.\n",
    "substitutionals[1][1] = 0.\n",
    "X0 = [1., 1.]\n",
    "X0 = optimize.fsolve(liquid, X0, xtol=1e-12, \n",
    "                     args=(interstitials, substitutionals, N))\n",
    "\n",
    "N[1] = X0[0]\n",
    "substitutionals[1][1] = X0[1]\n",
    "\n",
    "frac = 1.\n",
    "charge = 0.\n",
    "for Xj in components:\n",
    "    Xj.muSL = fp.numerix.log(Xj[1] / Xj[0])\n",
    "    print Xj.muSL, Xj.name, Xj\n",
    "    frac -= Xj\n",
    "    charge += Xj * Xj.z\n",
    "print frac\n",
    "print charge"
   ]
  }
 ],
 "metadata": {
  "kernelspec": {
   "display_name": "Python 2",
   "language": "python",
   "name": "python2"
  },
  "language_info": {
   "codemirror_mode": {
    "name": "ipython",
    "version": 2
   },
   "file_extension": ".py",
   "mimetype": "text/x-python",
   "name": "python",
   "nbconvert_exporter": "python",
   "pygments_lexer": "ipython2",
   "version": "2.7.11"
  }
 },
 "nbformat": 4,
 "nbformat_minor": 0
}
